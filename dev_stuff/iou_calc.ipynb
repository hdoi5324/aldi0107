{
 "cells": [
  {
   "cell_type": "code",
   "id": "initial_id",
   "metadata": {
    "collapsed": true,
    "ExecuteTime": {
     "end_time": "2025-05-31T04:00:14.454941Z",
     "start_time": "2025-05-31T04:00:14.450257Z"
    }
   },
   "source": [
    "import numpy as np\n",
    "from fvcore.nn import giou_loss\n",
    "\n",
    "height = 1024\n",
    "width = 2048\n",
    "\n",
    "n_box1, n_box2 = np.random.randint(18)+2, np.random.randint(18)+2\n",
    "\n",
    "\n",
    "\n",
    "boxes1, boxes2 = [], []\n",
    "for i in range(n_box1):\n",
    "    [y0, y1] = sorted([np.random.randint(height), np.random.randint(height)])\n",
    "    [x0, x1] = sorted([np.random.randint(width), np.random.randint(width)])\n",
    "    box = [x0, y0, x1, y1]\n",
    "    boxes1.append(box)\n",
    "for i in range(n_box2):\n",
    "    [y0, y1] = sorted([np.random.randint(height), np.random.randint(height)])\n",
    "    [x0, x1] = sorted([np.random.randint(width), np.random.randint(width)])\n",
    "    box = [x0, y0, x1, y1]\n",
    "    boxes2.append(box)\n",
    "    \n"
   ],
   "outputs": [],
   "execution_count": 240
  },
  {
   "metadata": {
    "ExecuteTime": {
     "end_time": "2025-05-31T04:00:14.481997Z",
     "start_time": "2025-05-31T04:00:14.471816Z"
    }
   },
   "cell_type": "code",
   "source": [
    "import torch\n",
    "from detectron2.structures import pairwise_iou, Boxes, BoxMode\n",
    "\n",
    "from scipy.optimize import linear_sum_assignment\n",
    "from modelSeleTools_DAS.methodsDirectory2Fast import IoUCost\n",
    "from torchvision.ops import complete_box_iou_loss\n",
    "from fvcore.nn.giou_loss import giou_loss\n",
    "\n",
    "iou_loss = IoUCost(iou_mode=\"iou\")\n",
    "\n",
    "boxes1 =torch.Tensor(boxes1)\n",
    "boxes2 =torch.Tensor(boxes2)\n",
    "\n",
    "sampleCnt, _ = boxes1.shape\n",
    "sampleCntPerturb, _ = boxes2.shape\n",
    "max_match = min(sampleCnt, sampleCntPerturb)\n",
    "\n",
    "#match_quality_matrix = pairwise_iou(Boxes(boxes1), Boxes(boxes2)) # gt rows, perturb cols\n",
    "#match_row_iou, match_col_iou = linear_sum_assignment(match_quality_matrix, maximize=True)\n",
    "\n",
    "pairwise_iou_matrix = pairwise_iou(Boxes(boxes1), Boxes(boxes2)) # gt rows, perturb cols\n",
    "match_row_pairwise_iou, match_col_pairwise_iou = linear_sum_assignment(pairwise_iou_matrix, maximize=True)\n",
    "pairwise_iou_ = pairwise_iou_matrix[match_row_pairwise_iou, match_col_pairwise_iou].sum().numpy().tolist() / max_match\n",
    "\n",
    "complete_box_iou = complete_box_iou_loss(torch.Tensor(boxes1[match_row_pairwise_iou,:]), torch.Tensor(boxes2[match_col_pairwise_iou, :]), reduction=\"mean\").numpy()\n",
    "giou = -giou_loss(torch.Tensor(boxes1[match_row_pairwise_iou,:]), torch.Tensor(boxes2[match_col_pairwise_iou, :]), reduction=\"mean\").item()\n",
    "\n",
    "\n",
    "\n",
    "iou_cost_matrix = iou_loss(boxes1, boxes2)\n",
    "matched_rowIdx, matched_colIdx = linear_sum_assignment(iou_cost_matrix)\n",
    "iou_cost = -iou_cost_matrix[matched_rowIdx, matched_colIdx].sum().numpy().tolist() / max_match\n",
    "print(f\"pairwise iou: {pairwise_iou_}, iou_cost: {iou_cost}, complete_box_iou: {complete_box_iou}, giou: {giou}\")"
   ],
   "id": "89c59ee551be53d9",
   "outputs": [
    {
     "name": "stdout",
     "output_type": "stream",
     "text": [
      "pairwise iou: 0.37308669090270996, iou_cost: 0.37308669090270996, complete_box_iou: 0.7557662725448608, giou: -0.8724836111068726\n"
     ]
    }
   ],
   "execution_count": 241
  },
  {
   "metadata": {
    "ExecuteTime": {
     "end_time": "2025-05-31T04:00:14.544410Z",
     "start_time": "2025-05-31T04:00:14.539335Z"
    }
   },
   "cell_type": "code",
   "source": "torch.Tensor(boxes2[match_col_pairwise_iou,:])",
   "id": "31b62a1c5fc1e729",
   "outputs": [
    {
     "data": {
      "text/plain": [
       "tensor([[ 763.,  798.,  876.,  899.],\n",
       "        [ 391.,  131.,  646.,  703.],\n",
       "        [ 791.,  466., 2040.,  887.],\n",
       "        [ 894.,  247., 1402.,  767.],\n",
       "        [ 366.,  295.,  790.,  610.]])"
      ]
     },
     "execution_count": 242,
     "metadata": {},
     "output_type": "execute_result"
    }
   ],
   "execution_count": 242
  },
  {
   "metadata": {
    "ExecuteTime": {
     "end_time": "2025-05-31T04:00:14.650289Z",
     "start_time": "2025-05-31T04:00:14.646613Z"
    }
   },
   "cell_type": "code",
   "source": [
    "print(Boxes(boxes1).area())\n",
    "print(Boxes(boxes2).area())"
   ],
   "id": "3048fda5617cd7d4",
   "outputs": [
    {
     "name": "stdout",
     "output_type": "stream",
     "text": [
      "tensor([ 59290.,  12834., 175051.,  83104.,  68783., 299088.,   4995., 313632.,\n",
      "          8064.,  75225., 132000.])\n",
      "tensor([ 11413., 264160., 525829., 145860., 133560.])\n"
     ]
    }
   ],
   "execution_count": 243
  },
  {
   "metadata": {},
   "cell_type": "markdown",
   "source": "## Differences between pairwise_iou and complete_box_iou_loss",
   "id": "54cb90ce5a08cfa3"
  },
  {
   "metadata": {
    "ExecuteTime": {
     "end_time": "2025-05-31T04:00:14.720687Z",
     "start_time": "2025-05-31T04:00:14.717355Z"
    }
   },
   "cell_type": "code",
   "source": [
    "diff = matched_colIdx - match_row_pairwise_iou\n",
    "print(diff)\n",
    "diff = matched_rowIdx - match_col_pairwise_iou\n",
    "print(diff)\n"
   ],
   "id": "c448bdc661a87bfd",
   "outputs": [
    {
     "name": "stdout",
     "output_type": "stream",
     "text": [
      "[-1  1 -3 -6 -6]\n",
      "[ 1 -1  3  6  6]\n"
     ]
    }
   ],
   "execution_count": 244
  }
 ],
 "metadata": {
  "kernelspec": {
   "display_name": "Python 3",
   "language": "python",
   "name": "python3"
  },
  "language_info": {
   "codemirror_mode": {
    "name": "ipython",
    "version": 2
   },
   "file_extension": ".py",
   "mimetype": "text/x-python",
   "name": "python",
   "nbconvert_exporter": "python",
   "pygments_lexer": "ipython2",
   "version": "2.7.6"
  }
 },
 "nbformat": 4,
 "nbformat_minor": 5
}
