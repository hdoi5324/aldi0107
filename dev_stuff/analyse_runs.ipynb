{
 "cells": [
  {
   "metadata": {
    "ExecuteTime": {
     "end_time": "2025-08-27T04:00:24.321224Z",
     "start_time": "2025-08-27T04:00:19.460540Z"
    }
   },
   "cell_type": "code",
   "source": [
    "import neptune\n",
    "import numpy as np\n",
    "\n",
    "api_token = \"xxx\"\n",
    "project_name = \"ACFRmarine/ALDI-DOAD\"\n",
    "\n",
    "project = neptune.init_project(\n",
    "    project=project_name,\n",
    "    mode=\"read-only\",\n",
    "    api_token=api_token,\n",
    "\n",
    ")"
   ],
   "id": "6337546c3e82e68a",
   "outputs": [
    {
     "name": "stdout",
     "output_type": "stream",
     "text": [
      "[neptune] [info   ] Neptune initialized. Open in the app: https://app.neptune.ai/ACFRmarine/ALDI-DOAD/\n"
     ]
    }
   ],
   "execution_count": 1
  },
  {
   "metadata": {
    "ExecuteTime": {
     "end_time": "2025-08-27T04:00:26.377911Z",
     "start_time": "2025-08-27T04:00:24.357616Z"
    }
   },
   "cell_type": "code",
   "source": [
    "runs_table_df = project.fetch_runs_table(query='(`sys/group_tags`:stringSet CONTAINS \"SAOD5\")').to_pandas()\n",
    "runs_table_df = runs_table_df[runs_table_df['sys/failed'] == False]\n",
    "df = runs_table_df"
   ],
   "id": "974cb5c859867143",
   "outputs": [],
   "execution_count": 2
  },
  {
   "metadata": {
    "ExecuteTime": {
     "end_time": "2025-08-27T04:00:26.489327Z",
     "start_time": "2025-08-27T04:00:26.480023Z"
    }
   },
   "cell_type": "code",
   "source": "[a for a in list(df.columns) if \"SEED\" in a]",
   "id": "f1bff7281a1eb458",
   "outputs": [
    {
     "data": {
      "text/plain": [
       "['training/config/SEED']"
      ]
     },
     "execution_count": 3,
     "metadata": {},
     "output_type": "execute_result"
    }
   ],
   "execution_count": 3
  },
  {
   "metadata": {
    "ExecuteTime": {
     "end_time": "2025-08-27T04:00:26.537926Z",
     "start_time": "2025-08-27T04:00:26.528033Z"
    }
   },
   "cell_type": "code",
   "source": [
    "def is_in_run(column_name, run):\n",
    "    names = column_name.split('/')\n",
    "    layer = run.get_structure()\n",
    "    for n in names:\n",
    "        if n not in layer:\n",
    "            return False\n",
    "        layer = layer[n]\n",
    "    return True\n",
    "\n",
    "def get_method(group_tags):\n",
    "    if \"CoSt_str\" in group_tags:\n",
    "        return \"Strong Loss\"\n",
    "    elif \"CoSt_weak\" in group_tags:\n",
    "        return \"Weak Loss\"\n",
    "    elif \"CoSt\" in group_tags or \"CoSt_BOTH\" in group_tags:\n",
    "        return \"Our method\"\n",
    "    elif \"ORACLE\" in group_tags:\n",
    "        return \"Fully Supervised\"\n",
    "    else:\n",
    "        \"Not sure\"\n",
    "\n",
    "def get_dataset(group_tags):\n",
    "    if \"ft_sparse\" in group_tags:\n",
    "        return \"Bbox Sparse\"\n",
    "    elif \"ORACLE\" in group_tags:\n",
    "        return \"Bbox All\"\n",
    "    elif \"OG\" in group_tags and \"FEW\" in group_tags:\n",
    "        return \"Point Sparse\"\n",
    "    elif \"CROP\" in group_tags and \"FEW\" in group_tags:\n",
    "        return \"Point Sparse - Cropped images\"\n",
    "    else:\n",
    "        return \"Unknown\"\n",
    "\n",
    "def get_max_from_run(run_id, column_name, api_token, project_name):\n",
    "    run = neptune.init_run(with_id=run_id, mode=\"read-only\",\n",
    "                           api_token=api_token,\n",
    "                           project=project_name)\n",
    "    if is_in_run(column_name, run):\n",
    "        return run[column_name].fetch_values()['value'].max()\n",
    "    else:\n",
    "        return np.nan\n",
    "\n",
    "def get_max_AP50_from_id(run_id):\n",
    "    return get_max_from_run(run_id, 'training/metrics/bbox/AP50',\n",
    "                            api_token=api_token, project_name=project_name)\n",
    "\n"
   ],
   "id": "f1c7a88c1d3ac5b8",
   "outputs": [],
   "execution_count": 4
  },
  {
   "metadata": {
    "ExecuteTime": {
     "end_time": "2025-08-27T04:00:26.556603Z",
     "start_time": "2025-08-27T04:00:26.547751Z"
    }
   },
   "cell_type": "code",
   "source": [
    "df['species'] = df['training/config/DATASETS/TEST'].apply(lambda x: 'Redcup' if x == \"(\\'squidle_redcup_test\\',)\" else 'Urchin')\n",
    "df['method'] = df['sys/group_tags'].apply(get_method)\n",
    "df['dataset'] = df['sys/group_tags'].apply(get_dataset)\n",
    "df['last_AP50'] = df['training/metrics/bbox/AP50']\n",
    "df['Seed'] = df ['training/config/SEED']"
   ],
   "id": "27112378e9eb1a38",
   "outputs": [],
   "execution_count": 5
  },
  {
   "metadata": {
    "ExecuteTime": {
     "end_time": "2025-08-27T04:01:11.510363Z",
     "start_time": "2025-08-27T04:00:26.572488Z"
    }
   },
   "cell_type": "code",
   "source": "df['max_AP50'] = df['sys/id'].apply(get_max_AP50_from_id)",
   "id": "c66f3475c2aecef0",
   "outputs": [
    {
     "name": "stdout",
     "output_type": "stream",
     "text": [
      "[neptune] [info   ] Neptune initialized. Open in the app: https://app.neptune.ai/ACFRmarine/ALDI-DOAD/e/AL-1336\n",
      "[neptune] [info   ] Neptune initialized. Open in the app: https://app.neptune.ai/ACFRmarine/ALDI-DOAD/e/AL-1335\n",
      "[neptune] [info   ] Neptune initialized. Open in the app: https://app.neptune.ai/ACFRmarine/ALDI-DOAD/e/AL-1334\n",
      "[neptune] [info   ] Neptune initialized. Open in the app: https://app.neptune.ai/ACFRmarine/ALDI-DOAD/e/AL-1333\n",
      "[neptune] [info   ] Neptune initialized. Open in the app: https://app.neptune.ai/ACFRmarine/ALDI-DOAD/e/AL-1332\n",
      "[neptune] [info   ] Neptune initialized. Open in the app: https://app.neptune.ai/ACFRmarine/ALDI-DOAD/e/AL-1331\n",
      "[neptune] [info   ] Neptune initialized. Open in the app: https://app.neptune.ai/ACFRmarine/ALDI-DOAD/e/AL-1330\n",
      "[neptune] [info   ] Neptune initialized. Open in the app: https://app.neptune.ai/ACFRmarine/ALDI-DOAD/e/AL-1329\n",
      "[neptune] [info   ] Neptune initialized. Open in the app: https://app.neptune.ai/ACFRmarine/ALDI-DOAD/e/AL-1328\n",
      "[neptune] [info   ] Neptune initialized. Open in the app: https://app.neptune.ai/ACFRmarine/ALDI-DOAD/e/AL-1327\n",
      "[neptune] [info   ] Neptune initialized. Open in the app: https://app.neptune.ai/ACFRmarine/ALDI-DOAD/e/AL-1326\n",
      "[neptune] [info   ] Neptune initialized. Open in the app: https://app.neptune.ai/ACFRmarine/ALDI-DOAD/e/AL-1325\n",
      "[neptune] [info   ] Neptune initialized. Open in the app: https://app.neptune.ai/ACFRmarine/ALDI-DOAD/e/AL-1324\n",
      "[neptune] [info   ] Neptune initialized. Open in the app: https://app.neptune.ai/ACFRmarine/ALDI-DOAD/e/AL-1323\n",
      "[neptune] [info   ] Neptune initialized. Open in the app: https://app.neptune.ai/ACFRmarine/ALDI-DOAD/e/AL-1322\n",
      "[neptune] [info   ] Neptune initialized. Open in the app: https://app.neptune.ai/ACFRmarine/ALDI-DOAD/e/AL-1321\n",
      "[neptune] [info   ] Neptune initialized. Open in the app: https://app.neptune.ai/ACFRmarine/ALDI-DOAD/e/AL-1320\n",
      "[neptune] [info   ] Neptune initialized. Open in the app: https://app.neptune.ai/ACFRmarine/ALDI-DOAD/e/AL-1319\n",
      "[neptune] [info   ] Neptune initialized. Open in the app: https://app.neptune.ai/ACFRmarine/ALDI-DOAD/e/AL-1318\n",
      "[neptune] [info   ] Neptune initialized. Open in the app: https://app.neptune.ai/ACFRmarine/ALDI-DOAD/e/AL-1317\n",
      "[neptune] [info   ] Neptune initialized. Open in the app: https://app.neptune.ai/ACFRmarine/ALDI-DOAD/e/AL-1316\n",
      "[neptune] [info   ] Neptune initialized. Open in the app: https://app.neptune.ai/ACFRmarine/ALDI-DOAD/e/AL-1315\n",
      "[neptune] [info   ] Neptune initialized. Open in the app: https://app.neptune.ai/ACFRmarine/ALDI-DOAD/e/AL-1314\n",
      "[neptune] [info   ] Neptune initialized. Open in the app: https://app.neptune.ai/ACFRmarine/ALDI-DOAD/e/AL-1313\n",
      "[neptune] [info   ] Neptune initialized. Open in the app: https://app.neptune.ai/ACFRmarine/ALDI-DOAD/e/AL-1312\n",
      "[neptune] [info   ] Neptune initialized. Open in the app: https://app.neptune.ai/ACFRmarine/ALDI-DOAD/e/AL-1311\n",
      "[neptune] [info   ] Neptune initialized. Open in the app: https://app.neptune.ai/ACFRmarine/ALDI-DOAD/e/AL-1310\n",
      "[neptune] [info   ] Neptune initialized. Open in the app: https://app.neptune.ai/ACFRmarine/ALDI-DOAD/e/AL-1309\n",
      "[neptune] [info   ] Neptune initialized. Open in the app: https://app.neptune.ai/ACFRmarine/ALDI-DOAD/e/AL-1307\n",
      "[neptune] [info   ] Neptune initialized. Open in the app: https://app.neptune.ai/ACFRmarine/ALDI-DOAD/e/AL-1305\n",
      "[neptune] [info   ] Neptune initialized. Open in the app: https://app.neptune.ai/ACFRmarine/ALDI-DOAD/e/AL-1304\n",
      "[neptune] [info   ] Neptune initialized. Open in the app: https://app.neptune.ai/ACFRmarine/ALDI-DOAD/e/AL-1295\n",
      "[neptune] [info   ] Neptune initialized. Open in the app: https://app.neptune.ai/ACFRmarine/ALDI-DOAD/e/AL-1294\n"
     ]
    }
   ],
   "execution_count": 6
  },
  {
   "metadata": {
    "ExecuteTime": {
     "end_time": "2025-08-27T04:05:02.646753Z",
     "start_time": "2025-08-27T04:05:02.638938Z"
    }
   },
   "cell_type": "code",
   "source": [
    "# Replace 'group_col1', 'group_col2', 'group_col3' with your actual column names\n",
    "df_summary = df[['sys/id', 'species', 'dataset', 'method', 'max_AP50', 'last_AP50', 'Seed']]\n",
    "df_summary = df_summary.sort_values(by=['species','dataset','method','Seed'])"
   ],
   "id": "b63572f88de73280",
   "outputs": [],
   "execution_count": 10
  },
  {
   "metadata": {
    "ExecuteTime": {
     "end_time": "2025-08-27T04:01:11.609358Z",
     "start_time": "2025-08-27T04:01:11.591577Z"
    }
   },
   "cell_type": "code",
   "source": [
    "group_columns = ['species', 'dataset', 'method']\n",
    "df_grouped = df.groupby(group_columns).agg(\n",
    "    AP50_max_mean=('max_AP50', 'mean'),\n",
    "    AP50_max_std=('max_AP50', 'std'),\n",
    "    AP50_last_mean=('last_AP50', 'mean'),\n",
    "    AP50_last_std=('last_AP50', 'std'),\n",
    "    count=('max_AP50', 'size')  # or use 'count' if you want to exclude NaNs\n",
    ").reset_index()\n",
    "\n"
   ],
   "id": "b6de3e4dd296bcf9",
   "outputs": [],
   "execution_count": 8
  }
 ],
 "metadata": {
  "kernelspec": {
   "display_name": "Python 3",
   "language": "python",
   "name": "python3"
  },
  "language_info": {
   "codemirror_mode": {
    "name": "ipython",
    "version": 2
   },
   "file_extension": ".py",
   "mimetype": "text/x-python",
   "name": "python",
   "nbconvert_exporter": "python",
   "pygments_lexer": "ipython2",
   "version": "2.7.6"
  }
 },
 "nbformat": 4,
 "nbformat_minor": 5
}
