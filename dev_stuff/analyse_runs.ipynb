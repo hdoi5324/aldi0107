{
 "cells": [
  {
   "metadata": {
    "ExecuteTime": {
     "end_time": "2025-08-28T00:13:05.863313Z",
     "start_time": "2025-08-28T00:13:05.859104Z"
    }
   },
   "cell_type": "code",
   "source": [
    "import os\n",
    "api_token = os.getenv('NEPTUNE_API_TOKEN')"
   ],
   "id": "cc43fc0f0b6973bb",
   "outputs": [],
   "execution_count": 57
  },
  {
   "metadata": {
    "ExecuteTime": {
     "end_time": "2025-08-28T00:13:06.901891Z",
     "start_time": "2025-08-28T00:13:05.891049Z"
    }
   },
   "cell_type": "code",
   "source": [
    "import neptune\n",
    "import numpy as np\n",
    "import pandas as pd\n",
    "\n",
    "project_name = \"ACFRmarine/ALDI-DOAD\"\n",
    "\n",
    "project = neptune.init_project(\n",
    "    project=project_name,\n",
    "    mode=\"read-only\",\n",
    "    api_token=api_token,\n",
    "\n",
    ")"
   ],
   "id": "6337546c3e82e68a",
   "outputs": [
    {
     "name": "stdout",
     "output_type": "stream",
     "text": [
      "[neptune] [info   ] Neptune initialized. Open in the app: https://app.neptune.ai/ACFRmarine/ALDI-DOAD/\n"
     ]
    }
   ],
   "execution_count": 58
  },
  {
   "metadata": {
    "ExecuteTime": {
     "end_time": "2025-08-28T00:13:09.387202Z",
     "start_time": "2025-08-28T00:13:06.931992Z"
    }
   },
   "cell_type": "code",
   "source": [
    "runs_table_df = project.fetch_runs_table(query='(`sys/group_tags`:stringSet CONTAINS \"SAOD5\")').to_pandas()\n",
    "runs_table_df = runs_table_df[runs_table_df['sys/failed'] == False]\n",
    "df = runs_table_df"
   ],
   "id": "974cb5c859867143",
   "outputs": [],
   "execution_count": 59
  },
  {
   "metadata": {
    "ExecuteTime": {
     "end_time": "2025-08-28T00:31:04.985315Z",
     "start_time": "2025-08-28T00:31:04.979783Z"
    }
   },
   "cell_type": "code",
   "source": [
    "def is_in_run(column_name, run):\n",
    "    names = column_name.split('/')\n",
    "    layer = run.get_structure()\n",
    "    for n in names:\n",
    "        if n not in layer:\n",
    "            return False\n",
    "        layer = layer[n]\n",
    "    return True\n",
    "\n",
    "def get_method(group_tags):\n",
    "    if \"CoSt_str\" in group_tags:\n",
    "        return \"Strong Loss\"\n",
    "    elif \"CoSt_weak\" in group_tags:\n",
    "        return \"Weak Loss\"\n",
    "    elif \"CoSt\" in group_tags or \"CoSt_BOTH\" in group_tags:\n",
    "        return \"Our method\"\n",
    "    elif \"ORACLE\" in group_tags:\n",
    "        return \"Fully Supervised\"\n",
    "    else:\n",
    "        \"Not sure\"\n",
    "\n",
    "def get_dataset(group_tags):\n",
    "    if \"ft_sparse\" in group_tags:\n",
    "        return \"Bbox Sparse\"\n",
    "    elif \"ORACLE\" in group_tags:\n",
    "        return \"Bbox All\"\n",
    "    elif \"OG\" in group_tags and \"FEW\" in group_tags:\n",
    "        return \"Point Sparse\"\n",
    "    elif \"CROP\" in group_tags and \"FEW\" in group_tags:\n",
    "        return \"Point Sparse - Cropped images\"\n",
    "    else:\n",
    "        return \"Unknown\"\n",
    "\n",
    "def get_max_from_run(run_id, column_name, api_token, project_name):\n",
    "    run = neptune.init_run(with_id=run_id, mode=\"read-only\",\n",
    "                           api_token=api_token,\n",
    "                           project=project_name)\n",
    "    if is_in_run(column_name, run):\n",
    "        return run[column_name].fetch_values()['value'].max()\n",
    "    else:\n",
    "        return None\n",
    "\n",
    "def get_max_AP50_from_id(run_id):\n",
    "    return get_max_from_run(run_id, 'training/metrics/bbox/AP50',\n",
    "                            api_token=api_token, project_name=project_name)\n",
    "\n"
   ],
   "id": "f1c7a88c1d3ac5b8",
   "outputs": [],
   "execution_count": 74
  },
  {
   "metadata": {
    "ExecuteTime": {
     "end_time": "2025-08-28T00:31:07.684163Z",
     "start_time": "2025-08-28T00:31:07.677300Z"
    }
   },
   "cell_type": "code",
   "source": [
    "df['species'] = df['training/config/DATASETS/TEST'].apply(lambda x: '2Redcup' if x == \"(\\'squidle_redcup_test\\',)\" else '1Urchin')\n",
    "df['method'] = df['sys/group_tags'].apply(get_method)\n",
    "df['dataset'] = df['sys/group_tags'].apply(get_dataset)\n",
    "df['last_AP50'] = df['training/metrics/bbox/AP50']\n",
    "df['Seed'] = df ['training/config/SEED']"
   ],
   "id": "27112378e9eb1a38",
   "outputs": [],
   "execution_count": 75
  },
  {
   "metadata": {
    "ExecuteTime": {
     "end_time": "2025-08-28T00:13:57.482983Z",
     "start_time": "2025-08-28T00:13:09.669959Z"
    }
   },
   "cell_type": "code",
   "source": "df['max_AP50'] = df['sys/id'].apply(get_max_AP50_from_id)",
   "id": "c66f3475c2aecef0",
   "outputs": [
    {
     "name": "stdout",
     "output_type": "stream",
     "text": [
      "[neptune] [info   ] Neptune initialized. Open in the app: https://app.neptune.ai/ACFRmarine/ALDI-DOAD/e/AL-1339\n",
      "[neptune] [info   ] Neptune initialized. Open in the app: https://app.neptune.ai/ACFRmarine/ALDI-DOAD/e/AL-1338\n",
      "[neptune] [info   ] Neptune initialized. Open in the app: https://app.neptune.ai/ACFRmarine/ALDI-DOAD/e/AL-1337\n",
      "[neptune] [info   ] Neptune initialized. Open in the app: https://app.neptune.ai/ACFRmarine/ALDI-DOAD/e/AL-1336\n",
      "[neptune] [info   ] Neptune initialized. Open in the app: https://app.neptune.ai/ACFRmarine/ALDI-DOAD/e/AL-1335\n",
      "[neptune] [info   ] Neptune initialized. Open in the app: https://app.neptune.ai/ACFRmarine/ALDI-DOAD/e/AL-1334\n",
      "[neptune] [info   ] Neptune initialized. Open in the app: https://app.neptune.ai/ACFRmarine/ALDI-DOAD/e/AL-1333\n",
      "[neptune] [info   ] Neptune initialized. Open in the app: https://app.neptune.ai/ACFRmarine/ALDI-DOAD/e/AL-1332\n",
      "[neptune] [info   ] Neptune initialized. Open in the app: https://app.neptune.ai/ACFRmarine/ALDI-DOAD/e/AL-1331\n",
      "[neptune] [info   ] Neptune initialized. Open in the app: https://app.neptune.ai/ACFRmarine/ALDI-DOAD/e/AL-1330\n",
      "[neptune] [info   ] Neptune initialized. Open in the app: https://app.neptune.ai/ACFRmarine/ALDI-DOAD/e/AL-1329\n",
      "[neptune] [info   ] Neptune initialized. Open in the app: https://app.neptune.ai/ACFRmarine/ALDI-DOAD/e/AL-1328\n",
      "[neptune] [info   ] Neptune initialized. Open in the app: https://app.neptune.ai/ACFRmarine/ALDI-DOAD/e/AL-1327\n",
      "[neptune] [info   ] Neptune initialized. Open in the app: https://app.neptune.ai/ACFRmarine/ALDI-DOAD/e/AL-1326\n",
      "[neptune] [info   ] Neptune initialized. Open in the app: https://app.neptune.ai/ACFRmarine/ALDI-DOAD/e/AL-1325\n",
      "[neptune] [info   ] Neptune initialized. Open in the app: https://app.neptune.ai/ACFRmarine/ALDI-DOAD/e/AL-1324\n",
      "[neptune] [info   ] Neptune initialized. Open in the app: https://app.neptune.ai/ACFRmarine/ALDI-DOAD/e/AL-1323\n",
      "[neptune] [info   ] Neptune initialized. Open in the app: https://app.neptune.ai/ACFRmarine/ALDI-DOAD/e/AL-1322\n",
      "[neptune] [info   ] Neptune initialized. Open in the app: https://app.neptune.ai/ACFRmarine/ALDI-DOAD/e/AL-1321\n",
      "[neptune] [info   ] Neptune initialized. Open in the app: https://app.neptune.ai/ACFRmarine/ALDI-DOAD/e/AL-1320\n",
      "[neptune] [info   ] Neptune initialized. Open in the app: https://app.neptune.ai/ACFRmarine/ALDI-DOAD/e/AL-1319\n",
      "[neptune] [info   ] Neptune initialized. Open in the app: https://app.neptune.ai/ACFRmarine/ALDI-DOAD/e/AL-1318\n",
      "[neptune] [info   ] Neptune initialized. Open in the app: https://app.neptune.ai/ACFRmarine/ALDI-DOAD/e/AL-1317\n",
      "[neptune] [info   ] Neptune initialized. Open in the app: https://app.neptune.ai/ACFRmarine/ALDI-DOAD/e/AL-1316\n",
      "[neptune] [info   ] Neptune initialized. Open in the app: https://app.neptune.ai/ACFRmarine/ALDI-DOAD/e/AL-1315\n",
      "[neptune] [info   ] Neptune initialized. Open in the app: https://app.neptune.ai/ACFRmarine/ALDI-DOAD/e/AL-1314\n",
      "[neptune] [info   ] Neptune initialized. Open in the app: https://app.neptune.ai/ACFRmarine/ALDI-DOAD/e/AL-1313\n",
      "[neptune] [info   ] Neptune initialized. Open in the app: https://app.neptune.ai/ACFRmarine/ALDI-DOAD/e/AL-1312\n",
      "[neptune] [info   ] Neptune initialized. Open in the app: https://app.neptune.ai/ACFRmarine/ALDI-DOAD/e/AL-1311\n",
      "[neptune] [info   ] Neptune initialized. Open in the app: https://app.neptune.ai/ACFRmarine/ALDI-DOAD/e/AL-1310\n",
      "[neptune] [info   ] Neptune initialized. Open in the app: https://app.neptune.ai/ACFRmarine/ALDI-DOAD/e/AL-1309\n",
      "[neptune] [info   ] Neptune initialized. Open in the app: https://app.neptune.ai/ACFRmarine/ALDI-DOAD/e/AL-1307\n",
      "[neptune] [info   ] Neptune initialized. Open in the app: https://app.neptune.ai/ACFRmarine/ALDI-DOAD/e/AL-1305\n",
      "[neptune] [info   ] Neptune initialized. Open in the app: https://app.neptune.ai/ACFRmarine/ALDI-DOAD/e/AL-1304\n",
      "[neptune] [info   ] Neptune initialized. Open in the app: https://app.neptune.ai/ACFRmarine/ALDI-DOAD/e/AL-1295\n",
      "[neptune] [info   ] Neptune initialized. Open in the app: https://app.neptune.ai/ACFRmarine/ALDI-DOAD/e/AL-1294\n"
     ]
    }
   ],
   "execution_count": 63
  },
  {
   "metadata": {
    "ExecuteTime": {
     "end_time": "2025-08-28T00:31:12.313158Z",
     "start_time": "2025-08-28T00:31:12.305025Z"
    }
   },
   "cell_type": "code",
   "source": [
    "# Replace 'group_col1', 'group_col2', 'group_col3' with your actual column names\n",
    "df_summary = df[['sys/id', 'species', 'dataset', 'method', 'max_AP50', 'last_AP50', 'Seed']]\n",
    "df_summary = df_summary.sort_values(by=['species','dataset','method','Seed'])"
   ],
   "id": "b63572f88de73280",
   "outputs": [],
   "execution_count": 76
  },
  {
   "metadata": {
    "ExecuteTime": {
     "end_time": "2025-08-28T00:33:58.883151Z",
     "start_time": "2025-08-28T00:33:58.865540Z"
    }
   },
   "cell_type": "code",
   "source": [
    "\n",
    "def mean_with_nan(group):\n",
    "    return np.nan if group.isna().any() else group.mean()\n",
    "\n",
    "def std_with_nan(group):\n",
    "    return np.nan if group.isna().any() else group.std()\n",
    "\n",
    "\n",
    "group_columns = ['species', 'dataset', 'method']\n",
    "df_grouped = df.groupby(group_columns, dropna=False).agg(\n",
    "    AP50_1max_mean=('max_AP50', mean_with_nan),\n",
    "    AP50_1max_std=('max_AP50', std_with_nan),\n",
    "    AP50_2last_mean=('last_AP50', mean_with_nan),\n",
    "    AP50_2last_std=('last_AP50', std_with_nan),\n",
    "    count=('max_AP50', 'size')  # or use 'count' if you want to exclude NaNs\n",
    ").reset_index()\n",
    "df_grouped = df_grouped.round({'AP50_1max_mean': 1, 'AP50_1max_std': 1, 'AP50_2last_mean': 1, 'AP50_2last_std': 1})\n"
   ],
   "id": "a55340756b369c92",
   "outputs": [],
   "execution_count": 80
  },
  {
   "metadata": {
    "ExecuteTime": {
     "end_time": "2025-08-28T00:34:00.722777Z",
     "start_time": "2025-08-28T00:34:00.707500Z"
    }
   },
   "cell_type": "code",
   "source": [
    "print(df_grouped.to_string(index=False))\n",
    "df_melted = pd.pivot(df_grouped, index=['dataset', 'method' ], columns='species', values=['AP50_1max_mean', 'AP50_1max_std', 'AP50_2last_mean', 'AP50_2last_std'])\n",
    "df_melted.columns = df_melted.columns.reorder_levels([1, 0])\n",
    "df_melted = df_melted.sort_index(axis=1)\n",
    "print(df_melted.to_string())\n"
   ],
   "id": "b6de3e4dd296bcf9",
   "outputs": [
    {
     "name": "stdout",
     "output_type": "stream",
     "text": [
      "species                       dataset           method  AP50_1max_mean  AP50_1max_std  AP50_2last_mean  AP50_2last_std  count\n",
      "1Urchin                      Bbox All Fully Supervised            95.4            0.3             92.7             0.3      3\n",
      "1Urchin                   Bbox Sparse       Our method            51.8           37.2             50.8            35.7      3\n",
      "1Urchin                  Point Sparse       Our method             9.9            9.5              2.8             2.4      3\n",
      "1Urchin                  Point Sparse      Strong Loss             5.6            7.3              3.7             4.0      3\n",
      "1Urchin                  Point Sparse        Weak Loss             7.2            4.6              2.4             2.3      3\n",
      "1Urchin Point Sparse - Cropped images       Our method            13.1            9.9              5.5             5.7      3\n",
      "2Redcup                      Bbox All Fully Supervised            93.5            0.1             91.8             0.5      3\n",
      "2Redcup                   Bbox Sparse       Our method            75.3            6.0             68.6             8.3      3\n",
      "2Redcup                  Point Sparse       Our method            61.9            7.9             50.4             8.3      3\n",
      "2Redcup                  Point Sparse      Strong Loss             NaN            NaN              NaN             NaN      3\n",
      "2Redcup                  Point Sparse        Weak Loss            58.2           13.7             48.5             9.3      3\n",
      "2Redcup Point Sparse - Cropped images       Our method            63.4            7.4             51.9             8.3      3\n",
      "species                                               1Urchin                                                     2Redcup                                             \n",
      "                                               AP50_1max_mean AP50_1max_std AP50_2last_mean AP50_2last_std AP50_1max_mean AP50_1max_std AP50_2last_mean AP50_2last_std\n",
      "dataset                       method                                                                                                                                  \n",
      "Bbox All                      Fully Supervised           95.4           0.3            92.7            0.3           93.5           0.1            91.8            0.5\n",
      "Bbox Sparse                   Our method                 51.8          37.2            50.8           35.7           75.3           6.0            68.6            8.3\n",
      "Point Sparse                  Our method                  9.9           9.5             2.8            2.4           61.9           7.9            50.4            8.3\n",
      "                              Strong Loss                 5.6           7.3             3.7            4.0            NaN           NaN             NaN            NaN\n",
      "                              Weak Loss                   7.2           4.6             2.4            2.3           58.2          13.7            48.5            9.3\n",
      "Point Sparse - Cropped images Our method                 13.1           9.9             5.5            5.7           63.4           7.4            51.9            8.3\n"
     ]
    }
   ],
   "execution_count": 81
  }
 ],
 "metadata": {
  "kernelspec": {
   "display_name": "Python 3",
   "language": "python",
   "name": "python3"
  },
  "language_info": {
   "codemirror_mode": {
    "name": "ipython",
    "version": 2
   },
   "file_extension": ".py",
   "mimetype": "text/x-python",
   "name": "python",
   "nbconvert_exporter": "python",
   "pygments_lexer": "ipython2",
   "version": "2.7.6"
  }
 },
 "nbformat": 4,
 "nbformat_minor": 5
}
