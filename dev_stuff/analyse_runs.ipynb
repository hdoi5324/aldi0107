{
 "cells": [
  {
   "metadata": {
    "ExecuteTime": {
     "end_time": "2025-09-29T02:42:38.201610004Z",
     "start_time": "2025-09-29T02:40:27.998991Z"
    }
   },
   "cell_type": "code",
   "source": [
    "import os\n",
    "\n",
    "api_token = os.getenv('NEPTUNE_API_TOKEN')"
   ],
   "id": "cc43fc0f0b6973bb",
   "outputs": [],
   "execution_count": 18
  },
  {
   "metadata": {
    "ExecuteTime": {
     "end_time": "2025-09-29T02:42:38.205518215Z",
     "start_time": "2025-09-29T02:40:28.054068Z"
    }
   },
   "cell_type": "code",
   "source": "",
   "id": "568d020860483f37",
   "outputs": [],
   "execution_count": 19
  },
  {
   "metadata": {
    "ExecuteTime": {
     "end_time": "2025-09-29T02:42:38.211716341Z",
     "start_time": "2025-09-29T02:40:28.148932Z"
    }
   },
   "cell_type": "code",
   "source": [
    "import neptune\n",
    "import numpy as np\n",
    "import pandas as pd\n",
    "\n",
    "project_name = \"ACFRmarine/ALDI-DOAD\"\n",
    "\n",
    "project = neptune.init_project(\n",
    "    project=project_name,\n",
    "    mode=\"read-only\",\n",
    "    api_token=api_token,\n",
    "\n",
    ")"
   ],
   "id": "4d8ac774fbaec9a1",
   "outputs": [
    {
     "name": "stdout",
     "output_type": "stream",
     "text": [
      "[neptune] [info   ] Neptune initialized. Open in the app: https://app.neptune.ai/ACFRmarine/ALDI-DOAD/\n"
     ]
    }
   ],
   "execution_count": 20
  },
  {
   "metadata": {
    "ExecuteTime": {
     "end_time": "2025-09-29T02:42:38.226602828Z",
     "start_time": "2025-09-29T02:40:28.928078Z"
    }
   },
   "cell_type": "code",
   "source": [
    "def is_in_run(column_name, run):\n",
    "    names = column_name.split('/')\n",
    "    layer = run.get_structure()\n",
    "    for n in names:\n",
    "        if n not in layer:\n",
    "            return False\n",
    "        layer = layer[n]\n",
    "    return True\n",
    "\n",
    "def get_max_eval_for_metric_from_run(run_id, metric_name, api_token, project_name, eval_name=\"training/metrics/bbox/AP50\"):\n",
    "    run = neptune.init_run(with_id=run_id, mode=\"read-only\",\n",
    "                           api_token=api_token,\n",
    "                           project=project_name)\n",
    "    if is_in_run(metric_name, run) and is_in_run(eval_name, run):\n",
    "        step = run[metric_name].fetch_values()['value'].argmax()\n",
    "        eval_data = run[eval_name].fetch_values()\n",
    "        return eval_data[eval_data['step'] == step]['value'].iloc[0]\n",
    "    else:\n",
    "        return None\n",
    "\n",
    "def get_max_AP50_from_id(run_id):\n",
    "    return get_max_eval_for_metric_from_run(run_id, 'training/metrics/bbox/AP50',\n",
    "                            api_token=api_token, project_name=project_name)"
   ],
   "id": "d05a23a4e61770d2",
   "outputs": [],
   "execution_count": 21
  },
  {
   "metadata": {},
   "cell_type": "markdown",
   "source": "# Summary info for SAOD",
   "id": "7c6edc60d1bd9c17"
  },
  {
   "metadata": {
    "ExecuteTime": {
     "end_time": "2025-09-29T02:42:38.230801216Z",
     "start_time": "2025-09-29T02:40:29.084299Z"
    }
   },
   "cell_type": "code",
   "source": [
    "runs_table_df = project.fetch_runs_table(query='(`sys/group_tags`:stringSet CONTAINS \"SAOD8\")').to_pandas()\n",
    "runs_table_df = runs_table_df[runs_table_df['sys/failed'] == False]\n",
    "df = runs_table_df"
   ],
   "id": "7383cbd6c4315be",
   "outputs": [],
   "execution_count": 22
  },
  {
   "metadata": {
    "ExecuteTime": {
     "end_time": "2025-09-29T02:42:38.232770729Z",
     "start_time": "2025-09-29T02:40:31.799997Z"
    }
   },
   "cell_type": "code",
   "source": [
    "\n",
    "\n",
    "def get_method(group_tags):\n",
    "    if \"WTWSSW_i_str\" in group_tags:\n",
    "        return \"Strong Loss\"\n",
    "    elif \"WTWSSW_i_weak\" in group_tags:\n",
    "        return \"Weak Loss\"\n",
    "    elif \"WTWSSW_i\" in group_tags:\n",
    "        return \"Our method\"\n",
    "    elif \"ORACLE\" in group_tags:\n",
    "        return \"Fully Supervised\"\n",
    "    else:\n",
    "        \"Not sure\"\n",
    "\n",
    "\n",
    "import ast\n",
    "def split_list_names(list_string):\n",
    "    #s = \"['loose_redcup17648_train_og_only', 'squidle_redcup_train_labelled']\"\n",
    "    # Safely evaluate the string to a Python list\n",
    "    str_list = ast.literal_eval(list_string)\n",
    "    # Split each string by underscore\n",
    "    #token_lists = [item.split('_') for item in str_list]\n",
    "    return str_list\n",
    "\n",
    "\n",
    "def add_dataset_name(df, column_name):\n",
    "    # eg [\\'loose_redcup17648_train_og_only\\']\n",
    "    df[f'parsed_{column_name}'] = df[column_name].apply(ast.literal_eval)\n",
    "    df[f'first_{column_name}'] = df[f'parsed_{column_name}'].apply(lambda x: x[0] if len(x) > 0 else None)\n",
    "    df['dataset'] = df[f'first_{column_name}'].apply(get_dataset_name)\n",
    "    \n",
    "import re\n",
    "\n",
    "def extract_semi_code(s):\n",
    "    if isinstance(s, str):\n",
    "        match = re.search(r'SEMI\\{(\\d+)\\}', s)\n",
    "        return int(match.group(1)) if match else None\n",
    "    return None\n",
    "\n",
    "    \n",
    "\n",
    "def get_dataset_name(first_dataset_col):\n",
    "    if first_dataset_col.startswith(\"squidle_\"):\n",
    "        if first_dataset_col.endswith(\"_train_sparse\"):\n",
    "            return \"Bbox Sparse\"\n",
    "        elif first_dataset_col.endswith(\"_train\"):\n",
    "            return \"Bbox All\"\n",
    "    elif first_dataset_col.startswith(\"loose_\"):\n",
    "        if \"17714\" in first_dataset_col or \"17711\" in first_dataset_col:\n",
    "            ds_name = \"Point Few (bbox)\"\n",
    "        elif \"17631\" in first_dataset_col or \"17648\" in first_dataset_col:\n",
    "            ds_name = \"Point Few (mass)\"\n",
    "        elif \"17630\" in first_dataset_col or \"17647\" in first_dataset_col:\n",
    "            ds_name = \"Point All (mass)\"\n",
    "        if first_dataset_col.endswith(\"_og_only\"):\n",
    "            return ds_name\n",
    "        elif first_dataset_col.endswith(\"_cropped_only\"):\n",
    "            return f\"{ds_name} Cropped\"\n",
    "    return \"Unknown\"\n",
    "\n",
    "def get_max_from_run(run_id, column_name, api_token, project_name, other_cols=[]):\n",
    "    run = neptune.init_run(with_id=run_id, mode=\"read-only\",\n",
    "                           api_token=api_token,\n",
    "                           project=project_name)\n",
    "    if is_in_run(column_name, run):\n",
    "        return run[column_name].fetch_values()['value'].max() # Get iteration number so we can get AR at same point\n",
    "    else:\n",
    "        return None\n",
    "\n",
    "def get_max_AP50_from_id(run_id):\n",
    "    return get_max_from_run(run_id, 'training/metrics/bbox/AP50',\n",
    "                            api_token=api_token, project_name=project_name)\n",
    "\n"
   ],
   "id": "8503f588ef0a92cd",
   "outputs": [],
   "execution_count": 23
  },
  {
   "metadata": {
    "ExecuteTime": {
     "end_time": "2025-09-29T02:42:38.235608179Z",
     "start_time": "2025-09-29T02:40:31.913440Z"
    }
   },
   "cell_type": "code",
   "source": [
    "run_id = 'AL-1534'\n",
    "run = neptune.init_run(with_id=run_id, mode=\"read-only\",\n",
    "                       api_token=api_token,\n",
    "                       project=project_name)"
   ],
   "id": "d7d817c278ebe123",
   "outputs": [
    {
     "name": "stdout",
     "output_type": "stream",
     "text": [
      "[neptune] [info   ] Neptune initialized. Open in the app: https://app.neptune.ai/ACFRmarine/ALDI-DOAD/e/AL-1534\n"
     ]
    }
   ],
   "execution_count": 24
  },
  {
   "metadata": {
    "ExecuteTime": {
     "end_time": "2025-09-29T02:42:38.237801976Z",
     "start_time": "2025-09-29T02:40:33.077751Z"
    }
   },
   "cell_type": "code",
   "source": [
    "AP50_df = run['training/metrics/bbox/AP50'].fetch_values()\n",
    "max_value = AP50_df['value'].max()\n",
    "max_step = AP50_df.loc[AP50_df['value'].idxmax()]['step']\n",
    "\n",
    "AR50at10_df = run['training/metrics/bbox/AR50@10'].fetch_values()\n",
    "AR50at10_max_value = AR50at10_df['value'].max()\n",
    "AR50at10_max_step = AR50at10_df.loc[AR50at10_df['value'].idxmax()]['step']\n",
    "\n",
    "\n"
   ],
   "id": "29a4adc262094e30",
   "outputs": [],
   "execution_count": 25
  },
  {
   "metadata": {},
   "cell_type": "markdown",
   "source": "## Add column data",
   "id": "806d0d53178e8cd9"
  },
  {
   "metadata": {
    "ExecuteTime": {
     "end_time": "2025-09-29T02:42:38.274635097Z",
     "start_time": "2025-09-29T02:40:34.072852Z"
    }
   },
   "cell_type": "code",
   "source": [
    "df['species'] = df['training/config/DATASETS/TEST'].apply(lambda x: '2Redcup' if x == \"(\\'squidle_redcup_test\\',)\" else '1Urchin')\n",
    "df['method'] = df['sys/group_tags'].apply(get_method)\n",
    "add_dataset_name(df, 'training/config/DATASETS/TRAIN')\n",
    "df['last_AP50'] = df['training/metrics/bbox/AP50']\n",
    "df['last_AR50@10'] = df['training/metrics/bbox/AR50@10']\n",
    "df['last_AR50@100'] = df['training/metrics/bbox/AR50@100']\n",
    "df['Seed'] = df ['training/config/SEED']\n",
    "df['lr'] = df['training/config/SOLVER/BASE_LR']\n",
    "df['semi_code'] = df['sys/group_tags'].apply(extract_semi_code)\n",
    "print(set(df['dataset']))"
   ],
   "id": "27112378e9eb1a38",
   "outputs": [
    {
     "name": "stdout",
     "output_type": "stream",
     "text": [
      "{'Point Few (mass) Cropped', 'Point Few (mass)', 'Unknown', 'Point Few (bbox)', 'Bbox All', 'Bbox Sparse', 'Point Few (bbox) Cropped'}\n"
     ]
    }
   ],
   "execution_count": 26
  },
  {
   "metadata": {},
   "cell_type": "markdown",
   "source": "## Find Max AP50",
   "id": "132db4cc704bf945"
  },
  {
   "metadata": {
    "ExecuteTime": {
     "end_time": "2025-09-29T02:42:33.064114Z",
     "start_time": "2025-09-29T02:40:34.209006Z"
    }
   },
   "cell_type": "code",
   "source": "df['max_AP50'] = df['sys/id'].apply(get_max_AP50_from_id)",
   "id": "c66f3475c2aecef0",
   "outputs": [
    {
     "name": "stdout",
     "output_type": "stream",
     "text": [
      "[neptune] [info   ] Neptune initialized. Open in the app: https://app.neptune.ai/ACFRmarine/ALDI-DOAD/e/AL-1598\n",
      "[neptune] [info   ] Neptune initialized. Open in the app: https://app.neptune.ai/ACFRmarine/ALDI-DOAD/e/AL-1597\n",
      "[neptune] [info   ] Neptune initialized. Open in the app: https://app.neptune.ai/ACFRmarine/ALDI-DOAD/e/AL-1596\n",
      "[neptune] [info   ] Neptune initialized. Open in the app: https://app.neptune.ai/ACFRmarine/ALDI-DOAD/e/AL-1595\n",
      "[neptune] [info   ] Neptune initialized. Open in the app: https://app.neptune.ai/ACFRmarine/ALDI-DOAD/e/AL-1594\n",
      "[neptune] [info   ] Neptune initialized. Open in the app: https://app.neptune.ai/ACFRmarine/ALDI-DOAD/e/AL-1593\n",
      "[neptune] [info   ] Neptune initialized. Open in the app: https://app.neptune.ai/ACFRmarine/ALDI-DOAD/e/AL-1592\n",
      "[neptune] [info   ] Neptune initialized. Open in the app: https://app.neptune.ai/ACFRmarine/ALDI-DOAD/e/AL-1591\n",
      "[neptune] [info   ] Neptune initialized. Open in the app: https://app.neptune.ai/ACFRmarine/ALDI-DOAD/e/AL-1590\n",
      "[neptune] [info   ] Neptune initialized. Open in the app: https://app.neptune.ai/ACFRmarine/ALDI-DOAD/e/AL-1589\n",
      "[neptune] [info   ] Neptune initialized. Open in the app: https://app.neptune.ai/ACFRmarine/ALDI-DOAD/e/AL-1588\n",
      "[neptune] [info   ] Neptune initialized. Open in the app: https://app.neptune.ai/ACFRmarine/ALDI-DOAD/e/AL-1587\n",
      "[neptune] [info   ] Neptune initialized. Open in the app: https://app.neptune.ai/ACFRmarine/ALDI-DOAD/e/AL-1586\n",
      "[neptune] [info   ] Neptune initialized. Open in the app: https://app.neptune.ai/ACFRmarine/ALDI-DOAD/e/AL-1584\n",
      "[neptune] [info   ] Neptune initialized. Open in the app: https://app.neptune.ai/ACFRmarine/ALDI-DOAD/e/AL-1583\n",
      "[neptune] [info   ] Neptune initialized. Open in the app: https://app.neptune.ai/ACFRmarine/ALDI-DOAD/e/AL-1582\n",
      "[neptune] [info   ] Neptune initialized. Open in the app: https://app.neptune.ai/ACFRmarine/ALDI-DOAD/e/AL-1581\n",
      "[neptune] [info   ] Neptune initialized. Open in the app: https://app.neptune.ai/ACFRmarine/ALDI-DOAD/e/AL-1580\n",
      "[neptune] [info   ] Neptune initialized. Open in the app: https://app.neptune.ai/ACFRmarine/ALDI-DOAD/e/AL-1570\n",
      "[neptune] [info   ] Neptune initialized. Open in the app: https://app.neptune.ai/ACFRmarine/ALDI-DOAD/e/AL-1569\n",
      "[neptune] [info   ] Neptune initialized. Open in the app: https://app.neptune.ai/ACFRmarine/ALDI-DOAD/e/AL-1568\n",
      "[neptune] [info   ] Neptune initialized. Open in the app: https://app.neptune.ai/ACFRmarine/ALDI-DOAD/e/AL-1567\n",
      "[neptune] [info   ] Neptune initialized. Open in the app: https://app.neptune.ai/ACFRmarine/ALDI-DOAD/e/AL-1566\n",
      "[neptune] [info   ] Neptune initialized. Open in the app: https://app.neptune.ai/ACFRmarine/ALDI-DOAD/e/AL-1565\n",
      "[neptune] [info   ] Neptune initialized. Open in the app: https://app.neptune.ai/ACFRmarine/ALDI-DOAD/e/AL-1564\n",
      "[neptune] [info   ] Neptune initialized. Open in the app: https://app.neptune.ai/ACFRmarine/ALDI-DOAD/e/AL-1563\n",
      "[neptune] [info   ] Neptune initialized. Open in the app: https://app.neptune.ai/ACFRmarine/ALDI-DOAD/e/AL-1562\n",
      "[neptune] [info   ] Neptune initialized. Open in the app: https://app.neptune.ai/ACFRmarine/ALDI-DOAD/e/AL-1561\n",
      "[neptune] [info   ] Neptune initialized. Open in the app: https://app.neptune.ai/ACFRmarine/ALDI-DOAD/e/AL-1560\n",
      "[neptune] [info   ] Neptune initialized. Open in the app: https://app.neptune.ai/ACFRmarine/ALDI-DOAD/e/AL-1559\n",
      "[neptune] [info   ] Neptune initialized. Open in the app: https://app.neptune.ai/ACFRmarine/ALDI-DOAD/e/AL-1558\n",
      "[neptune] [info   ] Neptune initialized. Open in the app: https://app.neptune.ai/ACFRmarine/ALDI-DOAD/e/AL-1557\n",
      "[neptune] [info   ] Neptune initialized. Open in the app: https://app.neptune.ai/ACFRmarine/ALDI-DOAD/e/AL-1556\n",
      "[neptune] [info   ] Neptune initialized. Open in the app: https://app.neptune.ai/ACFRmarine/ALDI-DOAD/e/AL-1555\n",
      "[neptune] [info   ] Neptune initialized. Open in the app: https://app.neptune.ai/ACFRmarine/ALDI-DOAD/e/AL-1554\n",
      "[neptune] [info   ] Neptune initialized. Open in the app: https://app.neptune.ai/ACFRmarine/ALDI-DOAD/e/AL-1553\n",
      "[neptune] [info   ] Neptune initialized. Open in the app: https://app.neptune.ai/ACFRmarine/ALDI-DOAD/e/AL-1552\n",
      "[neptune] [info   ] Neptune initialized. Open in the app: https://app.neptune.ai/ACFRmarine/ALDI-DOAD/e/AL-1551\n",
      "[neptune] [info   ] Neptune initialized. Open in the app: https://app.neptune.ai/ACFRmarine/ALDI-DOAD/e/AL-1550\n",
      "[neptune] [info   ] Neptune initialized. Open in the app: https://app.neptune.ai/ACFRmarine/ALDI-DOAD/e/AL-1549\n",
      "[neptune] [info   ] Neptune initialized. Open in the app: https://app.neptune.ai/ACFRmarine/ALDI-DOAD/e/AL-1548\n",
      "[neptune] [info   ] Neptune initialized. Open in the app: https://app.neptune.ai/ACFRmarine/ALDI-DOAD/e/AL-1547\n",
      "[neptune] [info   ] Neptune initialized. Open in the app: https://app.neptune.ai/ACFRmarine/ALDI-DOAD/e/AL-1546\n",
      "[neptune] [info   ] Neptune initialized. Open in the app: https://app.neptune.ai/ACFRmarine/ALDI-DOAD/e/AL-1545\n",
      "[neptune] [info   ] Neptune initialized. Open in the app: https://app.neptune.ai/ACFRmarine/ALDI-DOAD/e/AL-1544\n",
      "[neptune] [info   ] Neptune initialized. Open in the app: https://app.neptune.ai/ACFRmarine/ALDI-DOAD/e/AL-1543\n",
      "[neptune] [info   ] Neptune initialized. Open in the app: https://app.neptune.ai/ACFRmarine/ALDI-DOAD/e/AL-1542\n",
      "[neptune] [info   ] Neptune initialized. Open in the app: https://app.neptune.ai/ACFRmarine/ALDI-DOAD/e/AL-1541\n",
      "[neptune] [info   ] Neptune initialized. Open in the app: https://app.neptune.ai/ACFRmarine/ALDI-DOAD/e/AL-1540\n",
      "[neptune] [info   ] Neptune initialized. Open in the app: https://app.neptune.ai/ACFRmarine/ALDI-DOAD/e/AL-1539\n",
      "[neptune] [info   ] Neptune initialized. Open in the app: https://app.neptune.ai/ACFRmarine/ALDI-DOAD/e/AL-1538\n",
      "[neptune] [info   ] Neptune initialized. Open in the app: https://app.neptune.ai/ACFRmarine/ALDI-DOAD/e/AL-1537\n",
      "[neptune] [info   ] Neptune initialized. Open in the app: https://app.neptune.ai/ACFRmarine/ALDI-DOAD/e/AL-1536\n",
      "[neptune] [info   ] Neptune initialized. Open in the app: https://app.neptune.ai/ACFRmarine/ALDI-DOAD/e/AL-1535\n",
      "[neptune] [info   ] Neptune initialized. Open in the app: https://app.neptune.ai/ACFRmarine/ALDI-DOAD/e/AL-1534\n",
      "[neptune] [info   ] Neptune initialized. Open in the app: https://app.neptune.ai/ACFRmarine/ALDI-DOAD/e/AL-1533\n",
      "[neptune] [info   ] Neptune initialized. Open in the app: https://app.neptune.ai/ACFRmarine/ALDI-DOAD/e/AL-1529\n",
      "[neptune] [info   ] Neptune initialized. Open in the app: https://app.neptune.ai/ACFRmarine/ALDI-DOAD/e/AL-1532\n",
      "[neptune] [info   ] Neptune initialized. Open in the app: https://app.neptune.ai/ACFRmarine/ALDI-DOAD/e/AL-1531\n",
      "[neptune] [info   ] Neptune initialized. Open in the app: https://app.neptune.ai/ACFRmarine/ALDI-DOAD/e/AL-1530\n",
      "[neptune] [info   ] Neptune initialized. Open in the app: https://app.neptune.ai/ACFRmarine/ALDI-DOAD/e/AL-1509\n",
      "[neptune] [info   ] Neptune initialized. Open in the app: https://app.neptune.ai/ACFRmarine/ALDI-DOAD/e/AL-1508\n",
      "[neptune] [info   ] Neptune initialized. Open in the app: https://app.neptune.ai/ACFRmarine/ALDI-DOAD/e/AL-1507\n",
      "[neptune] [info   ] Neptune initialized. Open in the app: https://app.neptune.ai/ACFRmarine/ALDI-DOAD/e/AL-1506\n",
      "[neptune] [info   ] Neptune initialized. Open in the app: https://app.neptune.ai/ACFRmarine/ALDI-DOAD/e/AL-1505\n",
      "[neptune] [info   ] Neptune initialized. Open in the app: https://app.neptune.ai/ACFRmarine/ALDI-DOAD/e/AL-1504\n",
      "[neptune] [info   ] Neptune initialized. Open in the app: https://app.neptune.ai/ACFRmarine/ALDI-DOAD/e/AL-1503\n",
      "[neptune] [info   ] Neptune initialized. Open in the app: https://app.neptune.ai/ACFRmarine/ALDI-DOAD/e/AL-1502\n",
      "[neptune] [info   ] Neptune initialized. Open in the app: https://app.neptune.ai/ACFRmarine/ALDI-DOAD/e/AL-1501\n",
      "[neptune] [info   ] Neptune initialized. Open in the app: https://app.neptune.ai/ACFRmarine/ALDI-DOAD/e/AL-1500\n",
      "[neptune] [info   ] Neptune initialized. Open in the app: https://app.neptune.ai/ACFRmarine/ALDI-DOAD/e/AL-1499\n",
      "[neptune] [info   ] Neptune initialized. Open in the app: https://app.neptune.ai/ACFRmarine/ALDI-DOAD/e/AL-1498\n",
      "[neptune] [info   ] Neptune initialized. Open in the app: https://app.neptune.ai/ACFRmarine/ALDI-DOAD/e/AL-1497\n",
      "[neptune] [info   ] Neptune initialized. Open in the app: https://app.neptune.ai/ACFRmarine/ALDI-DOAD/e/AL-1496\n",
      "[neptune] [info   ] Neptune initialized. Open in the app: https://app.neptune.ai/ACFRmarine/ALDI-DOAD/e/AL-1495\n",
      "[neptune] [info   ] Neptune initialized. Open in the app: https://app.neptune.ai/ACFRmarine/ALDI-DOAD/e/AL-1494\n",
      "[neptune] [info   ] Neptune initialized. Open in the app: https://app.neptune.ai/ACFRmarine/ALDI-DOAD/e/AL-1493\n",
      "[neptune] [info   ] Neptune initialized. Open in the app: https://app.neptune.ai/ACFRmarine/ALDI-DOAD/e/AL-1492\n"
     ]
    }
   ],
   "execution_count": 27
  },
  {
   "metadata": {
    "ExecuteTime": {
     "end_time": "2025-09-29T02:42:33.249321Z",
     "start_time": "2025-09-29T02:42:33.243685Z"
    }
   },
   "cell_type": "code",
   "source": [
    "\n",
    "def mean_with_nan(group):\n",
    "    return np.nan if group.isna().any() else group.mean()\n",
    "\n",
    "def std_with_nan(group):\n",
    "    return np.nan if group.isna().any() else group.std()\n",
    "\n"
   ],
   "id": "37e2003a45014205",
   "outputs": [],
   "execution_count": 28
  },
  {
   "metadata": {},
   "cell_type": "markdown",
   "source": "## df_summary and df_grouped - main results tables",
   "id": "19a13262d86b0d9"
  },
  {
   "metadata": {
    "ExecuteTime": {
     "end_time": "2025-09-29T02:42:33.469703Z",
     "start_time": "2025-09-29T02:42:33.453064Z"
    }
   },
   "cell_type": "code",
   "source": [
    "# Replace 'group_col1', 'group_col2', 'group_col3' with your actual column names\n",
    "df_summary = df[~df['semi_code'].notna()][['sys/id', 'lr', 'species', 'dataset', 'method', 'max_AP50', 'last_AP50', 'Seed', 'training/config/MODEL/WEIGHTS']]\n",
    "df_summary = df_summary.sort_values(by=['species','dataset','method','Seed'])"
   ],
   "id": "b63572f88de73280",
   "outputs": [],
   "execution_count": 29
  },
  {
   "metadata": {
    "ExecuteTime": {
     "end_time": "2025-09-29T02:42:33.619894Z",
     "start_time": "2025-09-29T02:42:33.568586Z"
    }
   },
   "cell_type": "code",
   "source": [
    "group_columns = ['species', 'dataset', 'method', 'lr', 'training/config/MODEL/WEIGHTS']\n",
    "df_grouped = df_summary.groupby(group_columns, dropna=False).agg(\n",
    "    AP50_1max_mean=('max_AP50', mean_with_nan),\n",
    "    AP50_1max_std=('max_AP50', std_with_nan),\n",
    "    AP50_2last_mean=('last_AP50', mean_with_nan),\n",
    "    AP50_2last_std=('last_AP50', std_with_nan),\n",
    "    #AR50_10_3last_mean=('last_AR50@10', mean_with_nan),\n",
    "    #AR50_10_3last_std=('last_AR50@100', std_with_nan),\n",
    "    #AR50_100_4last_mean=('last_AR50@100', mean_with_nan),\n",
    "    #AR50_100_4last_std=('last_AR50@100', std_with_nan),\n",
    "    count=('max_AP50', 'size')  # or use 'count' if you want to exclude NaNs\n",
    ").reset_index()\n",
    "#df_grouped = df_grouped.round({'AP50_1max_mean': 1, 'AP50_1max_std': 1, 'AP50_2last_mean': 1, 'AP50_2last_std': 1, 'AR50_10_3last_mean': 1, 'AR50_10_3last_std': 1, 'AR50_100_4last_mean': 1, 'AR50_100_4last_std': 1})\n",
    "df_grouped = df_grouped.round({'AP50_1max_mean': 1, 'AP50_1max_std': 1, 'AP50_2last_mean': 1, 'AP50_2last_std': 1})"
   ],
   "id": "d5d08de3d9088e8d",
   "outputs": [],
   "execution_count": 30
  },
  {
   "metadata": {
    "ExecuteTime": {
     "end_time": "2025-09-29T02:42:33.740605Z",
     "start_time": "2025-09-29T02:42:33.696882Z"
    }
   },
   "cell_type": "code",
   "source": [
    "print(df_grouped.to_string(index=False))\n",
    "df_melted = pd.pivot(df_grouped, index=['lr','training/config/MODEL/WEIGHTS', 'dataset', 'method' ], columns='species', values=['AP50_1max_mean', 'AP50_1max_std',\n",
    "                                                                                          'AP50_2last_mean', 'AP50_2last_std']) #,  'AR50_10_3last_mean', 'AR50_10_3last_std',  'AR50_100_4last_mean', 'AR50_100_4last_std'])\n",
    "df_melted.columns = df_melted.columns.reorder_levels([1, 0])\n",
    "df_melted = df_melted.sort_index(axis=1)\n",
    "print(df_melted.to_string())\n"
   ],
   "id": "b6de3e4dd296bcf9",
   "outputs": [
    {
     "name": "stdout",
     "output_type": "stream",
     "text": [
      "species                  dataset           method   lr                 training/config/MODEL/WEIGHTS  AP50_1max_mean  AP50_1max_std  AP50_2last_mean  AP50_2last_std  count\n",
      "1Urchin                 Bbox All Fully Supervised 0.02                 models/model_final_f10217.pkl            95.4            0.4             92.2             0.5      3\n",
      "1Urchin              Bbox Sparse       Our method 0.02                 models/model_final_f10217.pkl            51.6           37.8             50.7            36.4      3\n",
      "1Urchin         Point Few (bbox)       Our method 0.02                 models/model_final_f10217.pkl            10.7           11.3              3.6             3.7      3\n",
      "1Urchin Point Few (bbox) Cropped       Our method 0.02                 models/model_final_f10217.pkl            22.9            5.0              9.6             1.5      3\n",
      "1Urchin         Point Few (mass)       Our method 0.02                 models/model_final_f10217.pkl            22.7            1.9              7.0             0.5      3\n",
      "1Urchin Point Few (mass) Cropped       Our method 0.02                 models/model_final_f10217.pkl            23.8            4.2              8.2             0.5      3\n",
      "2Redcup                 Bbox All Fully Supervised 0.02                 models/model_final_f10217.pkl            93.9            0.0             91.2             0.2      3\n",
      "2Redcup              Bbox Sparse       Our method 0.02                 models/model_final_f10217.pkl            73.6            8.4             69.4             9.8      3\n",
      "2Redcup         Point Few (bbox)       Our method 0.01 detectron2://ImageNetPretrained/MSRA/R-50.pkl            32.4            1.9             29.6             1.1      3\n",
      "2Redcup         Point Few (bbox)       Our method 0.01                 models/model_final_f10217.pkl            56.5           12.2             48.7             8.5      3\n",
      "2Redcup         Point Few (bbox)       Our method 0.02                 models/model_final_f10217.pkl            60.5            8.9             51.2             7.8      3\n",
      "2Redcup         Point Few (bbox)      Strong Loss 0.02                 models/model_final_f10217.pkl            40.3           21.4             25.9            18.8      3\n",
      "2Redcup         Point Few (bbox)        Weak Loss 0.02                 models/model_final_f10217.pkl            58.5           14.0             48.9             6.7      3\n",
      "2Redcup Point Few (bbox) Cropped       Our method 0.01 detectron2://ImageNetPretrained/MSRA/R-50.pkl            41.4            3.0             40.0             2.4      3\n",
      "2Redcup Point Few (bbox) Cropped       Our method 0.01                 models/model_final_f10217.pkl            63.2            0.7             49.7             1.0      3\n",
      "2Redcup Point Few (bbox) Cropped       Our method 0.02                 models/model_final_f10217.pkl            67.0            2.2             48.9             2.5      3\n",
      "2Redcup         Point Few (mass)       Our method 0.02                 models/model_final_f10217.pkl            67.3            1.2             43.1             1.0      3\n",
      "2Redcup Point Few (mass) Cropped       Our method 0.02                 models/model_final_f10217.pkl            76.5            0.4             59.5             0.7      3\n",
      "2Redcup                  Unknown Fully Supervised 0.02                 models/model_final_f10217.pkl            77.5            3.9             77.5             3.9     12\n",
      "species                                                                                             1Urchin                                                     2Redcup                                             \n",
      "                                                                                             AP50_1max_mean AP50_1max_std AP50_2last_mean AP50_2last_std AP50_1max_mean AP50_1max_std AP50_2last_mean AP50_2last_std\n",
      "lr   training/config/MODEL/WEIGHTS                 dataset                  method                                                                                                                                  \n",
      "0.01 detectron2://ImageNetPretrained/MSRA/R-50.pkl Point Few (bbox)         Our method                  NaN           NaN             NaN            NaN           32.4           1.9            29.6            1.1\n",
      "                                                   Point Few (bbox) Cropped Our method                  NaN           NaN             NaN            NaN           41.4           3.0            40.0            2.4\n",
      "     models/model_final_f10217.pkl                 Point Few (bbox)         Our method                  NaN           NaN             NaN            NaN           56.5          12.2            48.7            8.5\n",
      "                                                   Point Few (bbox) Cropped Our method                  NaN           NaN             NaN            NaN           63.2           0.7            49.7            1.0\n",
      "0.02 models/model_final_f10217.pkl                 Bbox All                 Fully Supervised           95.4           0.4            92.2            0.5           93.9           0.0            91.2            0.2\n",
      "                                                   Bbox Sparse              Our method                 51.6          37.8            50.7           36.4           73.6           8.4            69.4            9.8\n",
      "                                                   Point Few (bbox)         Our method                 10.7          11.3             3.6            3.7           60.5           8.9            51.2            7.8\n",
      "                                                                            Strong Loss                 NaN           NaN             NaN            NaN           40.3          21.4            25.9           18.8\n",
      "                                                                            Weak Loss                   NaN           NaN             NaN            NaN           58.5          14.0            48.9            6.7\n",
      "                                                   Point Few (bbox) Cropped Our method                 22.9           5.0             9.6            1.5           67.0           2.2            48.9            2.5\n",
      "                                                   Point Few (mass)         Our method                 22.7           1.9             7.0            0.5           67.3           1.2            43.1            1.0\n",
      "                                                   Point Few (mass) Cropped Our method                 23.8           4.2             8.2            0.5           76.5           0.4            59.5            0.7\n",
      "                                                   Unknown                  Fully Supervised            NaN           NaN             NaN            NaN           77.5           3.9            77.5            3.9\n"
     ]
    }
   ],
   "execution_count": 31
  },
  {
   "metadata": {},
   "cell_type": "markdown",
   "source": [
    "## SEMI results\n",
    "Filter out anything not Semi\n"
   ],
   "id": "c08b6e17379bfc35"
  },
  {
   "metadata": {
    "ExecuteTime": {
     "end_time": "2025-09-29T02:42:33.922141Z",
     "start_time": "2025-09-29T02:42:33.908124Z"
    }
   },
   "cell_type": "code",
   "source": [
    "\n",
    "semi_0 = df_summary.loc[(df_summary['species']=='2Redcup') & (df_summary['method'] == \"Our method\") & (df_summary['dataset']==\"Point Few (bbox)\") & (df_summary['lr']==0.02)].copy()\n",
    "semi_0['semi_code'] = [0] * 3\n",
    "\n",
    "semi_249 = df_summary.loc[(df_summary['species']=='2Redcup') & (df_summary['method'] == \"Fully Supervised\") & (df_summary['dataset']==\"Bbox All\") & (df_summary['lr']==0.02)].copy()\n",
    "semi_249['semi_code'] = [249] * 3"
   ],
   "id": "caaef1864da7f6fb",
   "outputs": [],
   "execution_count": 32
  },
  {
   "metadata": {
    "ExecuteTime": {
     "end_time": "2025-09-29T02:42:34.169617Z",
     "start_time": "2025-09-29T02:42:34.119062Z"
    }
   },
   "cell_type": "code",
   "source": [
    "df_semi = df[df['semi_code'].notna()][['sys/id', 'lr', 'species', 'dataset','semi_code', 'method', 'max_AP50', 'last_AP50', 'Seed']]\n",
    "df_semi = df_semi.sort_values(by=['species','dataset','method','Seed'])\n",
    "df_semi = pd.concat([df_semi, semi_0, semi_249], ignore_index=True)\n",
    "group_columns = ['species', 'dataset', 'method', 'lr', 'semi_code']\n",
    "df_semi_grouped = df_semi.groupby(group_columns, dropna=False).agg(\n",
    "    AP50_1max_mean=('max_AP50', mean_with_nan),\n",
    "    AP50_1max_std=('max_AP50', std_with_nan),\n",
    "    AP50_2last_mean=('last_AP50', mean_with_nan),\n",
    "    AP50_2last_std=('last_AP50', std_with_nan),\n",
    "    #AR50_10_3last_mean=('last_AR50@10', mean_with_nan),\n",
    "    #AR50_10_3last_std=('last_AR50@100', std_with_nan),\n",
    "    #AR50_100_4last_mean=('last_AR50@100', mean_with_nan),\n",
    "    #AR50_100_4last_std=('last_AR50@100', std_with_nan),\n",
    "    count=('max_AP50', 'size')  # or use 'count' if you want to exclude NaNs\n",
    ").reset_index()\n",
    "#df_semi_grouped = df_semi_grouped.round({'AP50_1max_mean': 1, 'AP50_1max_std': 1, 'AP50_2last_mean': 1, 'AP50_2last_std': 1, 'AR50_10_3last_mean': 1, 'AR50_10_3last_std': 1, 'AR50_100_4last_mean': 1, 'AR50_100_4last_std': 1})\n",
    "df_semi_grouped = df_semi_grouped.round({'AP50_1max_mean': 1, 'AP50_1max_std': 1, 'AP50_2last_mean': 1, 'AP50_2last_std': 1})"
   ],
   "id": "a55340756b369c92",
   "outputs": [],
   "execution_count": 33
  },
  {
   "metadata": {
    "ExecuteTime": {
     "end_time": "2025-09-29T02:42:34.340122Z",
     "start_time": "2025-09-29T02:42:34.309652Z"
    }
   },
   "cell_type": "code",
   "source": [
    "print(df_semi_grouped.to_string(index=False))\n",
    "df_melted = pd.pivot(df_semi_grouped, index=['lr','semi_code', 'dataset', 'method' ], columns='species', values=['AP50_1max_mean', 'AP50_1max_std',\n",
    "                                                                                          'AP50_2last_mean', 'AP50_2last_std']) #,  'AR50_10_3last_mean', 'AR50_10_3last_std',  'AR50_100_4last_mean', 'AR50_100_4last_std'])\n",
    "df_melted.columns = df_melted.columns.reorder_levels([1, 0])\n",
    "df_melted = df_melted.sort_index(axis=1)\n",
    "print(df_melted.to_string())\n"
   ],
   "id": "b4f42de8743eb1e1",
   "outputs": [
    {
     "name": "stdout",
     "output_type": "stream",
     "text": [
      "species          dataset           method   lr  semi_code  AP50_1max_mean  AP50_1max_std  AP50_2last_mean  AP50_2last_std  count\n",
      "2Redcup         Bbox All Fully Supervised 0.02      249.0            93.9            0.0             91.2             0.2      3\n",
      "2Redcup Point Few (bbox)       Our method 0.02        0.0            60.5            8.9             51.2             7.8      3\n",
      "2Redcup Point Few (bbox)       Our method 0.02       25.0            82.0            1.3             74.5             2.4      3\n",
      "2Redcup Point Few (bbox)       Our method 0.02       50.0            84.3            0.5             74.7             3.9      3\n",
      "2Redcup Point Few (bbox)       Our method 0.02      100.0            87.4            0.5             80.7             2.8      3\n",
      "2Redcup Point Few (bbox)       Our method 0.02      200.0            89.2            0.3             82.6             2.7      3\n",
      "species                                                 2Redcup                                             \n",
      "                                                 AP50_1max_mean AP50_1max_std AP50_2last_mean AP50_2last_std\n",
      "lr   semi_code dataset          method                                                                      \n",
      "0.02 0.0       Point Few (bbox) Our method                 60.5           8.9            51.2            7.8\n",
      "     25.0      Point Few (bbox) Our method                 82.0           1.3            74.5            2.4\n",
      "     50.0      Point Few (bbox) Our method                 84.3           0.5            74.7            3.9\n",
      "     100.0     Point Few (bbox) Our method                 87.4           0.5            80.7            2.8\n",
      "     200.0     Point Few (bbox) Our method                 89.2           0.3            82.6            2.7\n",
      "     249.0     Bbox All         Fully Supervised           93.9           0.0            91.2            0.2\n"
     ]
    }
   ],
   "execution_count": 34
  },
  {
   "metadata": {
    "ExecuteTime": {
     "end_time": "2025-09-29T02:42:35.141191Z",
     "start_time": "2025-09-29T02:42:34.482712Z"
    }
   },
   "cell_type": "code",
   "source": [
    "import seaborn as sns\n",
    "import matplotlib.pyplot as plt\n",
    "\n",
    "# Apply the default theme\n",
    "sns.set_theme(style=\"whitegrid\")\n",
    "g = sns.relplot(\n",
    "    data=df_semi, \n",
    "    x='semi_code', y='max_AP50', #col='Dataset', \n",
    "    #hue='Augmented with Synthetic Data', \n",
    "    kind='line', \n",
    "    markers=[\"o\", \"<\", \">\", \"*\"], \n",
    "    #style='Synthetic Data', \n",
    "    linewidth=3,\n",
    "    aspect=1.4,\n",
    "    height=5,\n",
    "    facet_kws={'gridspec_kws': {'wspace': 0.05, 'hspace': 0.05}})\n",
    "#g.set(xscale='log')\n",
    "\n",
    "# Add titles and labels\n",
    "\n",
    "# Define y-values for horizontal lines for each subplot\n",
    "y_values = {'Redcup': 93.9}\n",
    "\n",
    "# Add horizontal lines to each subplot\n",
    "for ax, category in zip(g.axes.flat, y_values):\n",
    "    ax.axhline(y=y_values[category], color='red', linestyle=(0, (3, 1, 1, 1)), linewidth=4)\n",
    "plt.ylim(0, 100)\n",
    "plt.xlim(0, None)\n",
    "\n",
    "g.set_axis_labels(\"No of Fully Annotated Images\", \"Maximum AP50\", fontsize=14)\n",
    "g.set_titles(\"{col_name}\", size=14)\n",
    "for ax in g.axes.flat:\n",
    "    ax.tick_params(axis='x', labelsize=14)\n",
    "    ax.tick_params(axis='y', labelsize=14)\n",
    "\n",
    "\n",
    "plt.show()\n",
    "fig = g.fig\n",
    "fig.savefig('semi_supervised_redcup_maxAP.jpg', dpi=200)"
   ],
   "id": "857ed0af00ecf0d6",
   "outputs": [
    {
     "name": "stderr",
     "output_type": "stream",
     "text": [
      "/home/heather/.conda/envs/py310_torch/lib/python3.10/site-packages/seaborn/axisgrid.py:123: UserWarning: This figure includes Axes that are not compatible with tight_layout, so results might be incorrect.\n",
      "  self._figure.tight_layout(*args, **kwargs)\n",
      "/home/heather/.conda/envs/py310_torch/lib/python3.10/site-packages/seaborn/axisgrid.py:123: UserWarning: This figure includes Axes that are not compatible with tight_layout, so results might be incorrect.\n",
      "  self._figure.tight_layout(*args, **kwargs)\n"
     ]
    },
    {
     "data": {
      "text/plain": [
       "<Figure size 700x500 with 1 Axes>"
      ],
      "image/png": "[encoded data removed]"
     },
     "metadata": {},
     "output_type": "display_data"
    }
   ],
   "execution_count": 35
  },
  {
   "metadata": {
    "ExecuteTime": {
     "end_time": "2025-09-29T02:42:35.881Z",
     "start_time": "2025-09-29T02:42:35.261844Z"
    }
   },
   "cell_type": "code",
   "source": [
    "import seaborn as sns\n",
    "import matplotlib.pyplot as plt\n",
    "\n",
    "# Apply the default theme\n",
    "sns.set_theme(style=\"whitegrid\")\n",
    "g = sns.relplot(\n",
    "    data=df_semi, \n",
    "    x='semi_code', y='last_AP50', #col='Dataset', \n",
    "    #hue='Augmented with Synthetic Data', \n",
    "    kind='line', \n",
    "    markers=[\"o\", \"<\", \">\", \"*\"], \n",
    "    #style='Synthetic Data', \n",
    "    linewidth=3,\n",
    "    aspect=1.4,\n",
    "    height=5,\n",
    "    facet_kws={'gridspec_kws': {'wspace': 0.05, 'hspace': 0.05}})\n",
    "#g.set(xscale='log')\n",
    "\n",
    "# Define y-values for horizontal lines for each subplot\n",
    "y_values = {'Redcup': 91.2}\n",
    "\n",
    "# Add horizontal lines to each subplot\n",
    "for ax, category in zip(g.axes.flat, y_values):\n",
    "    ax.axhline(y=y_values[category], color='red', linestyle=(0, (3, 1, 1, 1)), linewidth=4)\n",
    "plt.ylim(0, 100)\n",
    "plt.xlim(0, None)\n",
    "\n",
    "\n",
    "g.set_axis_labels(\"No of Fully Annotated Images\", \"Last AP50\", fontsize=14)\n",
    "g.set_titles(\"{col_name}\", size=14)\n",
    "for ax in g.axes.flat:\n",
    "    ax.tick_params(axis='x', labelsize=14)\n",
    "    ax.tick_params(axis='y', labelsize=14)\n",
    "\n",
    "plt.show()\n",
    "fig = g.fig\n",
    "fig.savefig('semi_supervised_redcup_lastAP.jpg', dpi=200)"
   ],
   "id": "61ba09de8159e054",
   "outputs": [
    {
     "name": "stderr",
     "output_type": "stream",
     "text": [
      "/home/heather/.conda/envs/py310_torch/lib/python3.10/site-packages/seaborn/axisgrid.py:123: UserWarning: This figure includes Axes that are not compatible with tight_layout, so results might be incorrect.\n",
      "  self._figure.tight_layout(*args, **kwargs)\n",
      "/home/heather/.conda/envs/py310_torch/lib/python3.10/site-packages/seaborn/axisgrid.py:123: UserWarning: This figure includes Axes that are not compatible with tight_layout, so results might be incorrect.\n",
      "  self._figure.tight_layout(*args, **kwargs)\n"
     ]
    },
    {
     "data": {
      "text/plain": [
       "<Figure size 700x500 with 1 Axes>"
      ],
      "image/png": "[encoded data removed]"
     },
     "metadata": {},
     "output_type": "display_data"
    }
   ],
   "execution_count": 36
  },
  {
   "metadata": {
    "ExecuteTime": {
     "end_time": "2025-09-29T02:42:35.982403Z",
     "start_time": "2025-09-29T02:42:35.978910Z"
    }
   },
   "cell_type": "code",
   "source": "## Get CoStudent data",
   "id": "8ff8966ae0407bf0",
   "outputs": [],
   "execution_count": 37
  },
  {
   "metadata": {
    "ExecuteTime": {
     "end_time": "2025-09-29T02:42:36.249569Z",
     "start_time": "2025-09-29T02:42:36.141022Z"
    }
   },
   "cell_type": "code",
   "source": [
    "import pandas as pd\n",
    "import re\n",
    "import json\n",
    "import numpy as np\n",
    "from glob import glob\n",
    "\n",
    "files = glob(\"../../CoStudent/summary/*.txt\")\n",
    "for f in files:\n",
    "    with open(f, 'r') as file:\n",
    "        line_data = []\n",
    "        for line in file:\n",
    "            line = line.replace('NaN', 'null')\n",
    "            filename, json_str = line.split(\":\", 1)\n",
    "            seed_match = re.search(r'_\\d{7}_', filename)\n",
    "            seed = seed_match.group().strip('_') if seed_match else None\n",
    "            if seed is None:\n",
    "                seed_match = re.search(r'_\\d{7}/', filename)\n",
    "                seed = seed_match.group().strip('_').strip('/') if seed_match else None \n",
    "            #print(seed, filename)\n",
    "            if seed is not None:\n",
    "                data = json.loads(json_str)\n",
    "                data['seed'] = seed\n",
    "                line_data.append(data)\n",
    "        df = pd.DataFrame(line_data)\n",
    "        print(f)\n",
    "        if len(df) > 0:\n",
    "            max_iter_idx = df.groupby('seed')['iteration'].idxmax()\n",
    "            last_df = df.loc[max_iter_idx, ['seed', 'bbox/AP50']].copy()\n",
    "            max_df = pd.DataFrame(df.groupby('seed')['bbox/AP50'].max())\n",
    "            last_df = last_df.merge(max_df,left_on='seed', right_index=True, suffixes=('_last', '_max'))\n",
    "            #print(last_df)\n",
    "            print(f\"${round(last_df['bbox/AP50_max'].mean(), 1)} \\pm {round(last_df['bbox/AP50_max'].std(), 1)}$ & ${round(last_df['bbox/AP50_last'].mean(), 1)} \\pm {round(last_df['bbox/AP50_last'].std(), 1)} $ %{len(last_df)}\")\n"
   ],
   "id": "d7765c9a5d7b5f91",
   "outputs": [
    {
     "name": "stdout",
     "output_type": "stream",
     "text": [
      "../../CoStudent/summary/fcos_costudent_redcup.txt\n",
      "$49.5 \\pm 0.1$ & $39.7 \\pm 4.7 $ %2\n",
      "../../CoStudent/summary/AP50_redcup_cropped_few_costudent.txt\n",
      "$68.9 \\pm 5.2$ & $51.2 \\pm 0.9 $ %3\n",
      "../../CoStudent/summary/AP50_urchin_og_gt_few_costudent.txt\n",
      "$87.4 \\pm 2.4$ & $83.7 \\pm 0.5 $ %3\n",
      "../../CoStudent/summary/AP50_urchin_cropped_few_costudent.txt\n",
      "$52.1 \\pm 5.0$ & $18.6 \\pm 2.4 $ %3\n",
      "../../CoStudent/summary/fcos_costudent_urchin.txt\n",
      "$20.9 \\pm 7.1$ & $5.4 \\pm 0.7 $ %3\n",
      "../../CoStudent/summary/AP50_redcup_og_gt_few_costudent.txt\n",
      "$83.5 \\pm 2.6$ & $73.3 \\pm 1.7 $ %3\n"
     ]
    }
   ],
   "execution_count": 38
  },
  {
   "metadata": {},
   "cell_type": "markdown",
   "source": "# UMS",
   "id": "dc0caa2d3c9e56be"
  },
  {
   "metadata": {
    "ExecuteTime": {
     "end_time": "2025-09-30T04:04:45.136397Z",
     "start_time": "2025-09-30T04:04:42.876735Z"
    }
   },
   "cell_type": "code",
   "source": [
    "runs_table_df = project.fetch_runs_table(query='(`sys/group_tags`:stringSet CONTAINS \"UMS3\")').to_pandas()\n",
    "runs_table_df = runs_table_df[runs_table_df['sys/failed'] == False]\n",
    "df = runs_table_df"
   ],
   "id": "a74632a7318972f8",
   "outputs": [],
   "execution_count": 45
  },
  {
   "metadata": {
    "ExecuteTime": {
     "end_time": "2025-09-30T04:04:48.492012Z",
     "start_time": "2025-09-30T04:04:48.479674Z"
    }
   },
   "cell_type": "code",
   "source": [
    "df['last_AP50'] = df['training/metrics/bbox/AP50']\n",
    "df['last_AP'] = df['training/metrics/bbox/AP']\n",
    "df['Seed'] = df ['training/config/SEED']\n",
    "df['Source'] = df['training/config/DATASETS/TRAIN'].apply(lambda x: x.split(',')[-1].replace(\"[\", \"\").replace(\"]\", \"\").replace(\"'\", \"\").strip())\n",
    "df[\"Pretrain\"] = df[\"training/config/MODEL/WEIGHTS\"].apply(lambda x: x.split('/')[-1])\n",
    "df['Target'] = df[\"training/config/UMS/UNLABELED\"]"
   ],
   "id": "2f941c103cccbc85",
   "outputs": [],
   "execution_count": 46
  },
  {
   "metadata": {
    "ExecuteTime": {
     "end_time": "2025-09-30T04:04:59.388852Z",
     "start_time": "2025-09-30T04:04:48.660376Z"
    }
   },
   "cell_type": "code",
   "source": [
    "df['max_AP50_umsdas_ioukl'] = df['sys/id'].apply(lambda x: get_max_eval_for_metric_from_run(x, \"training/metrics/umsdas/ioukl\", \n",
    "                                                                               api_token=api_token, project_name=project_name))"
   ],
   "id": "ac82eff694cd15fa",
   "outputs": [
    {
     "name": "stdout",
     "output_type": "stream",
     "text": [
      "[neptune] [info   ] Neptune initialized. Open in the app: https://app.neptune.ai/ACFRmarine/ALDI-DOAD/e/AL-1671\n",
      "[neptune] [info   ] Neptune initialized. Open in the app: https://app.neptune.ai/ACFRmarine/ALDI-DOAD/e/AL-1668\n",
      "[neptune] [info   ] Neptune initialized. Open in the app: https://app.neptune.ai/ACFRmarine/ALDI-DOAD/e/AL-1667\n",
      "[neptune] [info   ] Neptune initialized. Open in the app: https://app.neptune.ai/ACFRmarine/ALDI-DOAD/e/AL-1661\n",
      "[neptune] [info   ] Neptune initialized. Open in the app: https://app.neptune.ai/ACFRmarine/ALDI-DOAD/e/AL-1660\n",
      "[neptune] [info   ] Neptune initialized. Open in the app: https://app.neptune.ai/ACFRmarine/ALDI-DOAD/e/AL-1659\n",
      "[neptune] [info   ] Neptune initialized. Open in the app: https://app.neptune.ai/ACFRmarine/ALDI-DOAD/e/AL-1658\n",
      "[neptune] [info   ] Neptune initialized. Open in the app: https://app.neptune.ai/ACFRmarine/ALDI-DOAD/e/AL-1655\n"
     ]
    }
   ],
   "execution_count": 47
  },
  {
   "metadata": {
    "ExecuteTime": {
     "end_time": "2025-09-30T04:05:11.338374Z",
     "start_time": "2025-09-30T04:04:59.658231Z"
    }
   },
   "cell_type": "code",
   "source": "df['max_AP50'] = df['sys/id'].apply(get_max_AP50_from_id)\n",
   "id": "226d50bc8b65faf",
   "outputs": [
    {
     "name": "stdout",
     "output_type": "stream",
     "text": [
      "[neptune] [info   ] Neptune initialized. Open in the app: https://app.neptune.ai/ACFRmarine/ALDI-DOAD/e/AL-1671\n",
      "[neptune] [info   ] Neptune initialized. Open in the app: https://app.neptune.ai/ACFRmarine/ALDI-DOAD/e/AL-1668\n",
      "[neptune] [info   ] Neptune initialized. Open in the app: https://app.neptune.ai/ACFRmarine/ALDI-DOAD/e/AL-1667\n",
      "[neptune] [info   ] Neptune initialized. Open in the app: https://app.neptune.ai/ACFRmarine/ALDI-DOAD/e/AL-1661\n",
      "[neptune] [info   ] Neptune initialized. Open in the app: https://app.neptune.ai/ACFRmarine/ALDI-DOAD/e/AL-1660\n",
      "[neptune] [info   ] Neptune initialized. Open in the app: https://app.neptune.ai/ACFRmarine/ALDI-DOAD/e/AL-1659\n",
      "[neptune] [info   ] Neptune initialized. Open in the app: https://app.neptune.ai/ACFRmarine/ALDI-DOAD/e/AL-1658\n",
      "[neptune] [info   ] Neptune initialized. Open in the app: https://app.neptune.ai/ACFRmarine/ALDI-DOAD/e/AL-1655\n"
     ]
    }
   ],
   "execution_count": 48
  },
  {
   "metadata": {
    "ExecuteTime": {
     "end_time": "2025-09-30T04:05:11.420659Z",
     "start_time": "2025-09-30T04:05:11.415008Z"
    }
   },
   "cell_type": "code",
   "source": "[c for c in df.columns if \"ioukl\" in c]",
   "id": "aa51f14c43b3956b",
   "outputs": [
    {
     "data": {
      "text/plain": [
       "['training/metrics/umsdas/ioukl',\n",
       " 'training/metrics/umsdas/ioukl_iou',\n",
       " 'training/metrics/umsdas/ioukl_kl',\n",
       " 'max_AP50_umsdas_ioukl']"
      ]
     },
     "execution_count": 49,
     "metadata": {},
     "output_type": "execute_result"
    }
   ],
   "execution_count": 49
  },
  {
   "metadata": {
    "ExecuteTime": {
     "end_time": "2025-09-30T04:05:11.573576Z",
     "start_time": "2025-09-30T04:05:11.514416Z"
    }
   },
   "cell_type": "code",
   "source": [
    "df = df.round({'max_AP50': 1, 'last_AP50': 1, 'max_AP50_umsdas_ioukl': 1})\n",
    "print(df[['Source', 'Target', 'Pretrain', 'max_AP50', \"last_AP50\", \"max_AP50_umsdas_ioukl\", 'sys/tags', \"Seed\"]].to_string(index=False))"
   ],
   "id": "46513cc504542e87",
   "outputs": [
    {
     "name": "stdout",
     "output_type": "stream",
     "text": [
      "           Source                 Target                            Pretrain  max_AP50  last_AP50  max_AP50_umsdas_ioukl                   sys/tags    Seed\n",
      " cityscapes_train                   None                     model_final.pth      60.8       59.8                    NaN          RCCN-FPN,MT_final 1234575\n",
      " cityscapes_train                   None cityscapes_foggy_val_model_best.pth      66.2       66.1                    NaN          RCCN-FPN,ALDI_max 1234575\n",
      " cityscapes_train                   None                     model_final.pth      65.7       65.7                    NaN        RCCN-FPN,ALDI_final 1234575\n",
      "sim10k_cars_train  cityscapes_cars_train                     model_final.pth      72.2       67.6                   71.4          RCCN-FPN,MT_final 1234575\n",
      " cityscapes_train cityscapes_foggy_train              model_final_f10217.pkl      59.0       58.3                   57.1 Base,RCCN-FPN,StrongAugEMA 1234575\n",
      "sim10k_cars_train                   None  cityscapes_cars_val_model_best.pth      77.6       77.3                    NaN          ALDI_max,RCCN-FPN 1234575\n",
      "sim10k_cars_train                   None                     model_final.pth      75.7       75.6                    NaN        RCCN-FPN,ALDI_final 1234575\n",
      "sim10k_cars_train  cityscapes_cars_train              model_final_f10217.pkl      76.7       67.4                   76.1 RCCN-FPN,Base,StrongAugEMA 1234575\n"
     ]
    }
   ],
   "execution_count": 50
  },
  {
   "metadata": {
    "ExecuteTime": {
     "end_time": "2025-09-30T04:05:11.674021Z",
     "start_time": "2025-09-30T04:05:11.670608Z"
    }
   },
   "cell_type": "code",
   "source": [
    "#print(list(df.columns))\n",
    "print([c for c in df.columns if \"tags\" in c])"
   ],
   "id": "39412a19a23e5241",
   "outputs": [
    {
     "name": "stdout",
     "output_type": "stream",
     "text": [
      "['sys/group_tags', 'sys/tags']\n"
     ]
    }
   ],
   "execution_count": 51
  }
 ],
 "metadata": {
  "kernelspec": {
   "display_name": "Python 3",
   "language": "python",
   "name": "python3"
  },
  "language_info": {
   "codemirror_mode": {
    "name": "ipython",
    "version": 2
   },
   "file_extension": ".py",
   "mimetype": "text/x-python",
   "name": "python",
   "nbconvert_exporter": "python",
   "pygments_lexer": "ipython2",
   "version": "2.7.6"
  }
 },
 "nbformat": 4,
 "nbformat_minor": 5
}
