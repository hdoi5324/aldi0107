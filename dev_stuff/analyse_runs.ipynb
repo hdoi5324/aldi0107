{
 "cells": [
  {
   "metadata": {
    "ExecuteTime": {
     "end_time": "2025-09-26T06:28:07.066761Z",
     "start_time": "2025-09-26T06:28:07.063121Z"
    }
   },
   "cell_type": "code",
   "source": [
    "import os\n",
    "api_token = os.getenv('NEPTUNE_API_TOKEN')"
   ],
   "id": "cc43fc0f0b6973bb",
   "outputs": [],
   "execution_count": 27
  },
  {
   "metadata": {},
   "cell_type": "code",
   "outputs": [],
   "execution_count": null,
   "source": [
    "import neptune\n",
    "import numpy as np\n",
    "import pandas as pd\n",
    "\n",
    "project_name = \"ACFRmarine/ALDI-DOAD\"\n",
    "\n",
    "project = neptune.init_project(\n",
    "    project=project_name,\n",
    "    mode=\"read-only\",\n",
    "    api_token=api_token,\n",
    "\n",
    ")"
   ],
   "id": "4d8ac774fbaec9a1"
  },
  {
   "metadata": {
    "ExecuteTime": {
     "end_time": "2025-09-26T06:28:26.546533Z",
     "start_time": "2025-09-26T06:28:26.538013Z"
    }
   },
   "cell_type": "code",
   "source": [
    "def is_in_run(column_name, run):\n",
    "    names = column_name.split('/')\n",
    "    layer = run.get_structure()\n",
    "    for n in names:\n",
    "        if n not in layer:\n",
    "            return False\n",
    "        layer = layer[n]\n",
    "    return True\n",
    "\n",
    "def get_max_eval_for_metric_from_run(run_id, metric_name, api_token, project_name, eval_name=\"training/metrics/bbox/AP50\"):\n",
    "    run = neptune.init_run(with_id=run_id, mode=\"read-only\",\n",
    "                           api_token=api_token,\n",
    "                           project=project_name)\n",
    "    if is_in_run(metric_name, run) and is_in_run(eval_name, run):\n",
    "        step = run[metric_name].fetch_values()['value'].argmax()\n",
    "        eval_data = run[eval_name].fetch_values()\n",
    "        return eval_data[eval_data['step'] == step]['value'].iloc[0]\n",
    "    else:\n",
    "        return None\n",
    "\n",
    "def get_max_AP50_from_id(run_id):\n",
    "    return get_max_eval_for_metric_from_run(run_id, 'training/metrics/bbox/AP50',\n",
    "                            api_token=api_token, project_name=project_name)"
   ],
   "id": "d05a23a4e61770d2",
   "outputs": [],
   "execution_count": 28
  },
  {
   "metadata": {},
   "cell_type": "markdown",
   "source": "# Summary info for SAOD",
   "id": "7c6edc60d1bd9c17"
  },
  {
   "metadata": {},
   "cell_type": "code",
   "outputs": [],
   "execution_count": null,
   "source": [
    "runs_table_df = project.fetch_runs_table(query='(`sys/group_tags`:stringSet CONTAINS \"SAOD8\")').to_pandas()\n",
    "runs_table_df = runs_table_df[runs_table_df['sys/failed'] == False]\n",
    "df = runs_table_df"
   ],
   "id": "7383cbd6c4315be"
  },
  {
   "metadata": {},
   "cell_type": "code",
   "outputs": [],
   "execution_count": null,
   "source": [
    "\n",
    "\n",
    "def get_method(group_tags):\n",
    "    if \"WTWSSW_i_str\" in group_tags:\n",
    "        return \"Strong Loss\"\n",
    "    elif \"WTWSSW_i_weak\" in group_tags:\n",
    "        return \"Weak Loss\"\n",
    "    elif \"WTWSSW_i\" in group_tags:\n",
    "        return \"Our method\"\n",
    "    elif \"ORACLE\" in group_tags:\n",
    "        return \"Fully Supervised\"\n",
    "    else:\n",
    "        \"Not sure\"\n",
    "\n",
    "\n",
    "import ast\n",
    "def split_list_names(list_string):\n",
    "    #s = \"['loose_redcup17648_train_og_only', 'squidle_redcup_train_labelled']\"\n",
    "    # Safely evaluate the string to a Python list\n",
    "    str_list = ast.literal_eval(list_string)\n",
    "    # Split each string by underscore\n",
    "    #token_lists = [item.split('_') for item in str_list]\n",
    "    return str_list\n",
    "\n",
    "\n",
    "def add_dataset_name(df, column_name):\n",
    "    # eg [\\'loose_redcup17648_train_og_only\\']\n",
    "    df[f'parsed_{column_name}'] = df[column_name].apply(ast.literal_eval)\n",
    "    df[f'first_{column_name}'] = df[f'parsed_{column_name}'].apply(lambda x: x[0] if len(x) > 0 else None)\n",
    "    df['dataset'] = df[f'first_{column_name}'].apply(get_dataset_name)\n",
    "    \n",
    "import re\n",
    "\n",
    "def extract_semi_code(s):\n",
    "    if isinstance(s, str):\n",
    "        match = re.search(r'SEMI\\{(\\d+)\\}', s)\n",
    "        return int(match.group(1)) if match else None\n",
    "    return None\n",
    "\n",
    "    \n",
    "\n",
    "def get_dataset_name(first_dataset_col):\n",
    "    if first_dataset_col.startswith(\"squidle_\"):\n",
    "        if first_dataset_col.endswith(\"_train_sparse\"):\n",
    "            return \"Bbox Sparse\"\n",
    "        elif first_dataset_col.endswith(\"_train\"):\n",
    "            return \"Bbox All\"\n",
    "    elif first_dataset_col.startswith(\"loose_\"):\n",
    "        if \"17714\" in first_dataset_col or \"17711\" in first_dataset_col:\n",
    "            ds_name = \"Point Few (bbox)\"\n",
    "        elif \"17631\" in first_dataset_col or \"17648\" in first_dataset_col:\n",
    "            ds_name = \"Point Few (mass)\"\n",
    "        elif \"17630\" in first_dataset_col or \"17647\" in first_dataset_col:\n",
    "            ds_name = \"Point All (mass)\"\n",
    "        if first_dataset_col.endswith(\"_og_only\"):\n",
    "            return ds_name\n",
    "        elif first_dataset_col.endswith(\"_cropped_only\"):\n",
    "            return f\"{ds_name} Cropped\"\n",
    "    return \"Unknown\"\n",
    "\n",
    "def get_max_from_run(run_id, column_name, api_token, project_name, other_cols=[]):\n",
    "    run = neptune.init_run(with_id=run_id, mode=\"read-only\",\n",
    "                           api_token=api_token,\n",
    "                           project=project_name)\n",
    "    if is_in_run(column_name, run):\n",
    "        return run[column_name].fetch_values()['value'].max() # Get iteration number so we can get AR at same point\n",
    "    else:\n",
    "        return None\n",
    "\n",
    "def get_max_AP50_from_id(run_id):\n",
    "    return get_max_from_run(run_id, 'training/metrics/bbox/AP50',\n",
    "                            api_token=api_token, project_name=project_name)\n",
    "\n"
   ],
   "id": "8503f588ef0a92cd"
  },
  {
   "metadata": {},
   "cell_type": "code",
   "outputs": [],
   "execution_count": null,
   "source": [
    "run_id = 'AL-1534'\n",
    "run = neptune.init_run(with_id=run_id, mode=\"read-only\",\n",
    "                       api_token=api_token,\n",
    "                       project=project_name)"
   ],
   "id": "d7d817c278ebe123"
  },
  {
   "metadata": {
    "ExecuteTime": {
     "end_time": "2025-09-17T03:53:26.250856Z",
     "start_time": "2025-09-17T03:53:25.513863Z"
    }
   },
   "cell_type": "code",
   "source": [
    "AP50_df = run['training/metrics/bbox/AP50'].fetch_values()\n",
    "max_value = AP50_df['value'].max()\n",
    "max_step = AP50_df.loc[AP50_df['value'].idxmax()]['step']\n",
    "\n",
    "AR50at10_df = run['training/metrics/bbox/AR50@10'].fetch_values()\n",
    "AR50at10_max_value = AR50at10_df['value'].max()\n",
    "AR50at10_max_step = AR50at10_df.loc[AR50at10_df['value'].idxmax()]['step']\n",
    "\n",
    "\n"
   ],
   "id": "29a4adc262094e30",
   "outputs": [],
   "execution_count": 99
  },
  {
   "metadata": {},
   "cell_type": "markdown",
   "source": "## Add column data",
   "id": "806d0d53178e8cd9"
  },
  {
   "metadata": {
    "ExecuteTime": {
     "end_time": "2025-09-17T04:26:27.317169Z",
     "start_time": "2025-09-17T04:26:27.307005Z"
    }
   },
   "cell_type": "code",
   "source": [
    "df['species'] = df['training/config/DATASETS/TEST'].apply(lambda x: '2Redcup' if x == \"(\\'squidle_redcup_test\\',)\" else '1Urchin')\n",
    "df['method'] = df['sys/group_tags'].apply(get_method)\n",
    "add_dataset_name(df, 'training/config/DATASETS/TRAIN')\n",
    "df['last_AP50'] = df['training/metrics/bbox/AP50']\n",
    "df['last_AR50@10'] = df['training/metrics/bbox/AR50@10']\n",
    "df['last_AR50@100'] = df['training/metrics/bbox/AR50@100']\n",
    "df['Seed'] = df ['training/config/SEED']\n",
    "df['lr'] = df['training/config/SOLVER/BASE_LR']\n",
    "df['semi_code'] = df['sys/group_tags'].apply(extract_semi_code)\n",
    "print(set(df['dataset']))"
   ],
   "id": "27112378e9eb1a38",
   "outputs": [
    {
     "name": "stdout",
     "output_type": "stream",
     "text": [
      "{'Point Few (mass)', 'Point Few (bbox) Cropped', 'Bbox All', 'Unknown', 'Bbox Sparse', 'Point Few (mass) Cropped', 'Point Few (bbox)'}\n"
     ]
    }
   ],
   "execution_count": 115
  },
  {
   "metadata": {},
   "cell_type": "markdown",
   "source": "## Find Max AP50",
   "id": "132db4cc704bf945"
  },
  {
   "metadata": {
    "ExecuteTime": {
     "end_time": "2025-09-17T03:55:18.890257Z",
     "start_time": "2025-09-17T03:53:31.821174Z"
    }
   },
   "cell_type": "code",
   "source": "df['max_AP50'] = df['sys/id'].apply(get_max_AP50_from_id)",
   "id": "c66f3475c2aecef0",
   "outputs": [
    {
     "name": "stdout",
     "output_type": "stream",
     "text": [
      "[neptune] [info   ] Neptune initialized. Open in the app: https://app.neptune.ai/ACFRmarine/ALDI-DOAD/e/AL-1597\n",
      "[neptune] [info   ] Neptune initialized. Open in the app: https://app.neptune.ai/ACFRmarine/ALDI-DOAD/e/AL-1596\n",
      "[neptune] [info   ] Neptune initialized. Open in the app: https://app.neptune.ai/ACFRmarine/ALDI-DOAD/e/AL-1595\n",
      "[neptune] [info   ] Neptune initialized. Open in the app: https://app.neptune.ai/ACFRmarine/ALDI-DOAD/e/AL-1594\n",
      "[neptune] [info   ] Neptune initialized. Open in the app: https://app.neptune.ai/ACFRmarine/ALDI-DOAD/e/AL-1593\n",
      "[neptune] [info   ] Neptune initialized. Open in the app: https://app.neptune.ai/ACFRmarine/ALDI-DOAD/e/AL-1592\n",
      "[neptune] [info   ] Neptune initialized. Open in the app: https://app.neptune.ai/ACFRmarine/ALDI-DOAD/e/AL-1591\n",
      "[neptune] [info   ] Neptune initialized. Open in the app: https://app.neptune.ai/ACFRmarine/ALDI-DOAD/e/AL-1590\n",
      "[neptune] [info   ] Neptune initialized. Open in the app: https://app.neptune.ai/ACFRmarine/ALDI-DOAD/e/AL-1589\n",
      "[neptune] [info   ] Neptune initialized. Open in the app: https://app.neptune.ai/ACFRmarine/ALDI-DOAD/e/AL-1588\n",
      "[neptune] [info   ] Neptune initialized. Open in the app: https://app.neptune.ai/ACFRmarine/ALDI-DOAD/e/AL-1587\n",
      "[neptune] [info   ] Neptune initialized. Open in the app: https://app.neptune.ai/ACFRmarine/ALDI-DOAD/e/AL-1586\n",
      "[neptune] [info   ] Neptune initialized. Open in the app: https://app.neptune.ai/ACFRmarine/ALDI-DOAD/e/AL-1585\n",
      "[neptune] [info   ] Neptune initialized. Open in the app: https://app.neptune.ai/ACFRmarine/ALDI-DOAD/e/AL-1584\n",
      "[neptune] [info   ] Neptune initialized. Open in the app: https://app.neptune.ai/ACFRmarine/ALDI-DOAD/e/AL-1583\n",
      "[neptune] [info   ] Neptune initialized. Open in the app: https://app.neptune.ai/ACFRmarine/ALDI-DOAD/e/AL-1582\n",
      "[neptune] [info   ] Neptune initialized. Open in the app: https://app.neptune.ai/ACFRmarine/ALDI-DOAD/e/AL-1581\n",
      "[neptune] [info   ] Neptune initialized. Open in the app: https://app.neptune.ai/ACFRmarine/ALDI-DOAD/e/AL-1580\n",
      "[neptune] [info   ] Neptune initialized. Open in the app: https://app.neptune.ai/ACFRmarine/ALDI-DOAD/e/AL-1570\n",
      "[neptune] [info   ] Neptune initialized. Open in the app: https://app.neptune.ai/ACFRmarine/ALDI-DOAD/e/AL-1569\n",
      "[neptune] [info   ] Neptune initialized. Open in the app: https://app.neptune.ai/ACFRmarine/ALDI-DOAD/e/AL-1568\n",
      "[neptune] [info   ] Neptune initialized. Open in the app: https://app.neptune.ai/ACFRmarine/ALDI-DOAD/e/AL-1567\n",
      "[neptune] [info   ] Neptune initialized. Open in the app: https://app.neptune.ai/ACFRmarine/ALDI-DOAD/e/AL-1566\n",
      "[neptune] [info   ] Neptune initialized. Open in the app: https://app.neptune.ai/ACFRmarine/ALDI-DOAD/e/AL-1565\n",
      "[neptune] [info   ] Neptune initialized. Open in the app: https://app.neptune.ai/ACFRmarine/ALDI-DOAD/e/AL-1564\n",
      "[neptune] [info   ] Neptune initialized. Open in the app: https://app.neptune.ai/ACFRmarine/ALDI-DOAD/e/AL-1563\n",
      "[neptune] [info   ] Neptune initialized. Open in the app: https://app.neptune.ai/ACFRmarine/ALDI-DOAD/e/AL-1562\n",
      "[neptune] [info   ] Neptune initialized. Open in the app: https://app.neptune.ai/ACFRmarine/ALDI-DOAD/e/AL-1561\n",
      "[neptune] [info   ] Neptune initialized. Open in the app: https://app.neptune.ai/ACFRmarine/ALDI-DOAD/e/AL-1560\n",
      "[neptune] [info   ] Neptune initialized. Open in the app: https://app.neptune.ai/ACFRmarine/ALDI-DOAD/e/AL-1559\n",
      "[neptune] [info   ] Neptune initialized. Open in the app: https://app.neptune.ai/ACFRmarine/ALDI-DOAD/e/AL-1558\n",
      "[neptune] [info   ] Neptune initialized. Open in the app: https://app.neptune.ai/ACFRmarine/ALDI-DOAD/e/AL-1557\n",
      "[neptune] [info   ] Neptune initialized. Open in the app: https://app.neptune.ai/ACFRmarine/ALDI-DOAD/e/AL-1556\n",
      "[neptune] [info   ] Neptune initialized. Open in the app: https://app.neptune.ai/ACFRmarine/ALDI-DOAD/e/AL-1555\n",
      "[neptune] [info   ] Neptune initialized. Open in the app: https://app.neptune.ai/ACFRmarine/ALDI-DOAD/e/AL-1554\n",
      "[neptune] [info   ] Neptune initialized. Open in the app: https://app.neptune.ai/ACFRmarine/ALDI-DOAD/e/AL-1553\n",
      "[neptune] [info   ] Neptune initialized. Open in the app: https://app.neptune.ai/ACFRmarine/ALDI-DOAD/e/AL-1552\n",
      "[neptune] [info   ] Neptune initialized. Open in the app: https://app.neptune.ai/ACFRmarine/ALDI-DOAD/e/AL-1551\n",
      "[neptune] [info   ] Neptune initialized. Open in the app: https://app.neptune.ai/ACFRmarine/ALDI-DOAD/e/AL-1550\n",
      "[neptune] [info   ] Neptune initialized. Open in the app: https://app.neptune.ai/ACFRmarine/ALDI-DOAD/e/AL-1549\n",
      "[neptune] [info   ] Neptune initialized. Open in the app: https://app.neptune.ai/ACFRmarine/ALDI-DOAD/e/AL-1548\n",
      "[neptune] [info   ] Neptune initialized. Open in the app: https://app.neptune.ai/ACFRmarine/ALDI-DOAD/e/AL-1547\n",
      "[neptune] [info   ] Neptune initialized. Open in the app: https://app.neptune.ai/ACFRmarine/ALDI-DOAD/e/AL-1546\n",
      "[neptune] [info   ] Neptune initialized. Open in the app: https://app.neptune.ai/ACFRmarine/ALDI-DOAD/e/AL-1545\n",
      "[neptune] [info   ] Neptune initialized. Open in the app: https://app.neptune.ai/ACFRmarine/ALDI-DOAD/e/AL-1544\n",
      "[neptune] [info   ] Neptune initialized. Open in the app: https://app.neptune.ai/ACFRmarine/ALDI-DOAD/e/AL-1543\n",
      "[neptune] [info   ] Neptune initialized. Open in the app: https://app.neptune.ai/ACFRmarine/ALDI-DOAD/e/AL-1542\n",
      "[neptune] [info   ] Neptune initialized. Open in the app: https://app.neptune.ai/ACFRmarine/ALDI-DOAD/e/AL-1541\n",
      "[neptune] [info   ] Neptune initialized. Open in the app: https://app.neptune.ai/ACFRmarine/ALDI-DOAD/e/AL-1540\n",
      "[neptune] [info   ] Neptune initialized. Open in the app: https://app.neptune.ai/ACFRmarine/ALDI-DOAD/e/AL-1539\n",
      "[neptune] [info   ] Neptune initialized. Open in the app: https://app.neptune.ai/ACFRmarine/ALDI-DOAD/e/AL-1538\n",
      "[neptune] [info   ] Neptune initialized. Open in the app: https://app.neptune.ai/ACFRmarine/ALDI-DOAD/e/AL-1537\n",
      "[neptune] [info   ] Neptune initialized. Open in the app: https://app.neptune.ai/ACFRmarine/ALDI-DOAD/e/AL-1536\n",
      "[neptune] [info   ] Neptune initialized. Open in the app: https://app.neptune.ai/ACFRmarine/ALDI-DOAD/e/AL-1535\n",
      "[neptune] [info   ] Neptune initialized. Open in the app: https://app.neptune.ai/ACFRmarine/ALDI-DOAD/e/AL-1534\n",
      "[neptune] [info   ] Neptune initialized. Open in the app: https://app.neptune.ai/ACFRmarine/ALDI-DOAD/e/AL-1533\n",
      "[neptune] [info   ] Neptune initialized. Open in the app: https://app.neptune.ai/ACFRmarine/ALDI-DOAD/e/AL-1529\n",
      "[neptune] [info   ] Neptune initialized. Open in the app: https://app.neptune.ai/ACFRmarine/ALDI-DOAD/e/AL-1532\n",
      "[neptune] [info   ] Neptune initialized. Open in the app: https://app.neptune.ai/ACFRmarine/ALDI-DOAD/e/AL-1531\n",
      "[neptune] [info   ] Neptune initialized. Open in the app: https://app.neptune.ai/ACFRmarine/ALDI-DOAD/e/AL-1530\n",
      "[neptune] [info   ] Neptune initialized. Open in the app: https://app.neptune.ai/ACFRmarine/ALDI-DOAD/e/AL-1509\n",
      "[neptune] [info   ] Neptune initialized. Open in the app: https://app.neptune.ai/ACFRmarine/ALDI-DOAD/e/AL-1508\n",
      "[neptune] [info   ] Neptune initialized. Open in the app: https://app.neptune.ai/ACFRmarine/ALDI-DOAD/e/AL-1507\n",
      "[neptune] [info   ] Neptune initialized. Open in the app: https://app.neptune.ai/ACFRmarine/ALDI-DOAD/e/AL-1506\n",
      "[neptune] [info   ] Neptune initialized. Open in the app: https://app.neptune.ai/ACFRmarine/ALDI-DOAD/e/AL-1505\n",
      "[neptune] [info   ] Neptune initialized. Open in the app: https://app.neptune.ai/ACFRmarine/ALDI-DOAD/e/AL-1504\n",
      "[neptune] [info   ] Neptune initialized. Open in the app: https://app.neptune.ai/ACFRmarine/ALDI-DOAD/e/AL-1503\n",
      "[neptune] [info   ] Neptune initialized. Open in the app: https://app.neptune.ai/ACFRmarine/ALDI-DOAD/e/AL-1502\n",
      "[neptune] [info   ] Neptune initialized. Open in the app: https://app.neptune.ai/ACFRmarine/ALDI-DOAD/e/AL-1501\n",
      "[neptune] [info   ] Neptune initialized. Open in the app: https://app.neptune.ai/ACFRmarine/ALDI-DOAD/e/AL-1500\n",
      "[neptune] [info   ] Neptune initialized. Open in the app: https://app.neptune.ai/ACFRmarine/ALDI-DOAD/e/AL-1499\n",
      "[neptune] [info   ] Neptune initialized. Open in the app: https://app.neptune.ai/ACFRmarine/ALDI-DOAD/e/AL-1498\n",
      "[neptune] [info   ] Neptune initialized. Open in the app: https://app.neptune.ai/ACFRmarine/ALDI-DOAD/e/AL-1497\n",
      "[neptune] [info   ] Neptune initialized. Open in the app: https://app.neptune.ai/ACFRmarine/ALDI-DOAD/e/AL-1496\n",
      "[neptune] [info   ] Neptune initialized. Open in the app: https://app.neptune.ai/ACFRmarine/ALDI-DOAD/e/AL-1495\n",
      "[neptune] [info   ] Neptune initialized. Open in the app: https://app.neptune.ai/ACFRmarine/ALDI-DOAD/e/AL-1494\n",
      "[neptune] [info   ] Neptune initialized. Open in the app: https://app.neptune.ai/ACFRmarine/ALDI-DOAD/e/AL-1493\n",
      "[neptune] [info   ] Neptune initialized. Open in the app: https://app.neptune.ai/ACFRmarine/ALDI-DOAD/e/AL-1492\n"
     ]
    }
   ],
   "execution_count": 101
  },
  {
   "metadata": {},
   "cell_type": "code",
   "source": [
    "\n",
    "def mean_with_nan(group):\n",
    "    return np.nan if group.isna().any() else group.mean()\n",
    "\n",
    "def std_with_nan(group):\n",
    "    return np.nan if group.isna().any() else group.std()\n",
    "\n"
   ],
   "id": "37e2003a45014205",
   "execution_count": null,
   "outputs": []
  },
  {
   "metadata": {},
   "cell_type": "markdown",
   "source": "## df_summary and df_grouped - main results tables",
   "id": "19a13262d86b0d9"
  },
  {
   "metadata": {
    "ExecuteTime": {
     "end_time": "2025-09-17T04:31:04.743983Z",
     "start_time": "2025-09-17T04:31:04.737615Z"
    }
   },
   "cell_type": "code",
   "source": [
    "# Replace 'group_col1', 'group_col2', 'group_col3' with your actual column names\n",
    "df_summary = df[~df['semi_code'].notna()][['sys/id', 'lr', 'species', 'dataset', 'method', 'max_AP50', 'last_AP50', 'Seed', 'training/config/MODEL/WEIGHTS']]\n",
    "df_summary = df_summary.sort_values(by=['species','dataset','method','Seed'])"
   ],
   "id": "b63572f88de73280",
   "outputs": [],
   "execution_count": 124
  },
  {
   "metadata": {
    "ExecuteTime": {
     "end_time": "2025-09-17T04:31:05.878531Z",
     "start_time": "2025-09-17T04:31:05.857750Z"
    }
   },
   "cell_type": "code",
   "source": [
    "group_columns = ['species', 'dataset', 'method', 'lr', 'training/config/MODEL/WEIGHTS']\n",
    "df_grouped = df_summary.groupby(group_columns, dropna=False).agg(\n",
    "    AP50_1max_mean=('max_AP50', mean_with_nan),\n",
    "    AP50_1max_std=('max_AP50', std_with_nan),\n",
    "    AP50_2last_mean=('last_AP50', mean_with_nan),\n",
    "    AP50_2last_std=('last_AP50', std_with_nan),\n",
    "    #AR50_10_3last_mean=('last_AR50@10', mean_with_nan),\n",
    "    #AR50_10_3last_std=('last_AR50@100', std_with_nan),\n",
    "    #AR50_100_4last_mean=('last_AR50@100', mean_with_nan),\n",
    "    #AR50_100_4last_std=('last_AR50@100', std_with_nan),\n",
    "    count=('max_AP50', 'size')  # or use 'count' if you want to exclude NaNs\n",
    ").reset_index()\n",
    "#df_grouped = df_grouped.round({'AP50_1max_mean': 1, 'AP50_1max_std': 1, 'AP50_2last_mean': 1, 'AP50_2last_std': 1, 'AR50_10_3last_mean': 1, 'AR50_10_3last_std': 1, 'AR50_100_4last_mean': 1, 'AR50_100_4last_std': 1})\n",
    "df_grouped = df_grouped.round({'AP50_1max_mean': 1, 'AP50_1max_std': 1, 'AP50_2last_mean': 1, 'AP50_2last_std': 1})"
   ],
   "id": "d5d08de3d9088e8d",
   "outputs": [],
   "execution_count": 125
  },
  {
   "metadata": {
    "ExecuteTime": {
     "end_time": "2025-09-17T04:30:14.591467Z",
     "start_time": "2025-09-17T04:30:14.572163Z"
    }
   },
   "cell_type": "code",
   "source": [
    "print(df_grouped.to_string(index=False))\n",
    "df_melted = pd.pivot(df_grouped, index=['lr','training/config/MODEL/WEIGHTS', 'dataset', 'method' ], columns='species', values=['AP50_1max_mean', 'AP50_1max_std',\n",
    "                                                                                          'AP50_2last_mean', 'AP50_2last_std']) #,  'AR50_10_3last_mean', 'AR50_10_3last_std',  'AR50_100_4last_mean', 'AR50_100_4last_std'])\n",
    "df_melted.columns = df_melted.columns.reorder_levels([1, 0])\n",
    "df_melted = df_melted.sort_index(axis=1)\n",
    "print(df_melted.to_string())\n"
   ],
   "id": "b6de3e4dd296bcf9",
   "outputs": [
    {
     "name": "stdout",
     "output_type": "stream",
     "text": [
      "species                  dataset           method   lr                                                      training/config/MODEL/WEIGHTS  AP50_1max_mean  AP50_1max_std  AP50_2last_mean  AP50_2last_std  count\n",
      "1Urchin                 Bbox All Fully Supervised 0.02                                                      models/model_final_f10217.pkl            95.4            0.4             92.2             0.5      3\n",
      "1Urchin              Bbox Sparse       Our method 0.02                                                      models/model_final_f10217.pkl            51.6           37.8             50.7            36.4      3\n",
      "1Urchin         Point Few (bbox)       Our method 0.02                                                      models/model_final_f10217.pkl            10.7           11.3              3.6             3.7      3\n",
      "1Urchin Point Few (bbox) Cropped       Our method 0.02                                                      models/model_final_f10217.pkl            22.9            5.0              9.6             1.5      3\n",
      "1Urchin         Point Few (mass)       Our method 0.02                                                      models/model_final_f10217.pkl            22.7            1.9              7.0             0.5      3\n",
      "1Urchin Point Few (mass) Cropped       Our method 0.02                                                      models/model_final_f10217.pkl            23.8            4.2              8.2             0.5      3\n",
      "2Redcup                 Bbox All Fully Supervised 0.02                                                      models/model_final_f10217.pkl            93.9            0.0             91.2             0.2      3\n",
      "2Redcup              Bbox Sparse       Our method 0.02                                                      models/model_final_f10217.pkl            73.6            8.4             69.4             9.8      3\n",
      "2Redcup         Point Few (bbox)       Our method 0.01                                      detectron2://ImageNetPretrained/MSRA/R-50.pkl            32.4            1.9             29.6             1.1      3\n",
      "2Redcup         Point Few (bbox)       Our method 0.01                                                      models/model_final_f10217.pkl            56.5           12.2             48.7             8.5      3\n",
      "2Redcup         Point Few (bbox)       Our method 0.02                                                      models/model_final_f10217.pkl            60.5            8.9             51.2             7.8      3\n",
      "2Redcup         Point Few (bbox)       Our method 0.02 outputs/SAOD8/redcup_fr_full_train_oracle_fr_0.02_split100_1234575/model_final.pth            87.7            NaN             82.8             NaN      1\n",
      "2Redcup         Point Few (bbox)       Our method 0.02 outputs/SAOD8/redcup_fr_full_train_oracle_fr_0.02_split100_2234575/model_final.pth            87.6            NaN             81.9             NaN      1\n",
      "2Redcup         Point Few (bbox)       Our method 0.02 outputs/SAOD8/redcup_fr_full_train_oracle_fr_0.02_split100_3234575/model_final.pth            86.8            NaN             77.5             NaN      1\n",
      "2Redcup         Point Few (bbox)       Our method 0.02 outputs/SAOD8/redcup_fr_full_train_oracle_fr_0.02_split200_1234575/model_final.pth            89.6            NaN             85.2             NaN      1\n",
      "2Redcup         Point Few (bbox)       Our method 0.02 outputs/SAOD8/redcup_fr_full_train_oracle_fr_0.02_split200_2234575/model_final.pth            89.0            NaN             82.9             NaN      1\n",
      "2Redcup         Point Few (bbox)       Our method 0.02 outputs/SAOD8/redcup_fr_full_train_oracle_fr_0.02_split200_3234575/model_final.pth            89.1            NaN             79.8             NaN      1\n",
      "2Redcup         Point Few (bbox)       Our method 0.02          outputs/SAOD8/redcup_fr_full_train_oracle_fr_0.02_split25/model_final.pth            82.0            1.3             74.5             2.4      3\n",
      "2Redcup         Point Few (bbox)       Our method 0.02  outputs/SAOD8/redcup_fr_full_train_oracle_fr_0.02_split50_1234575/model_final.pth            84.4            NaN             79.1             NaN      1\n",
      "2Redcup         Point Few (bbox)       Our method 0.02  outputs/SAOD8/redcup_fr_full_train_oracle_fr_0.02_split50_2234575/model_final.pth            84.8            NaN             72.9             NaN      1\n",
      "2Redcup         Point Few (bbox)      Strong Loss 0.02                                                      models/model_final_f10217.pkl            40.3           21.4             25.9            18.8      3\n",
      "2Redcup         Point Few (bbox)        Weak Loss 0.02                                                      models/model_final_f10217.pkl            58.5           14.0             48.9             6.7      3\n",
      "2Redcup Point Few (bbox) Cropped       Our method 0.01                                      detectron2://ImageNetPretrained/MSRA/R-50.pkl            41.4            3.0             40.0             2.4      3\n",
      "2Redcup Point Few (bbox) Cropped       Our method 0.01                                                      models/model_final_f10217.pkl            63.2            0.7             49.7             1.0      3\n",
      "2Redcup Point Few (bbox) Cropped       Our method 0.02                                                      models/model_final_f10217.pkl            67.0            2.2             48.9             2.5      3\n",
      "2Redcup         Point Few (mass)       Our method 0.02                                                      models/model_final_f10217.pkl            67.3            1.2             43.1             1.0      3\n",
      "2Redcup Point Few (mass) Cropped       Our method 0.02                                                      models/model_final_f10217.pkl            76.5            0.4             59.5             0.7      3\n",
      "2Redcup                  Unknown Fully Supervised 0.02                                                      models/model_final_f10217.pkl             NaN            NaN              NaN             NaN     13\n",
      "species                                                                                                                                  1Urchin                                                     2Redcup                                             \n",
      "                                                                                                                                  AP50_1max_mean AP50_1max_std AP50_2last_mean AP50_2last_std AP50_1max_mean AP50_1max_std AP50_2last_mean AP50_2last_std\n",
      "lr   training/config/MODEL/WEIGHTS                                                      dataset                  method                                                                                                                                  \n",
      "0.01 detectron2://ImageNetPretrained/MSRA/R-50.pkl                                      Point Few (bbox)         Our method                  NaN           NaN             NaN            NaN           32.4           1.9            29.6            1.1\n",
      "                                                                                        Point Few (bbox) Cropped Our method                  NaN           NaN             NaN            NaN           41.4           3.0            40.0            2.4\n",
      "     models/model_final_f10217.pkl                                                      Point Few (bbox)         Our method                  NaN           NaN             NaN            NaN           56.5          12.2            48.7            8.5\n",
      "                                                                                        Point Few (bbox) Cropped Our method                  NaN           NaN             NaN            NaN           63.2           0.7            49.7            1.0\n",
      "0.02 models/model_final_f10217.pkl                                                      Bbox All                 Fully Supervised           95.4           0.4            92.2            0.5           93.9           0.0            91.2            0.2\n",
      "                                                                                        Bbox Sparse              Our method                 51.6          37.8            50.7           36.4           73.6           8.4            69.4            9.8\n",
      "                                                                                        Point Few (bbox)         Our method                 10.7          11.3             3.6            3.7           60.5           8.9            51.2            7.8\n",
      "                                                                                                                 Strong Loss                 NaN           NaN             NaN            NaN           40.3          21.4            25.9           18.8\n",
      "                                                                                                                 Weak Loss                   NaN           NaN             NaN            NaN           58.5          14.0            48.9            6.7\n",
      "                                                                                        Point Few (bbox) Cropped Our method                 22.9           5.0             9.6            1.5           67.0           2.2            48.9            2.5\n",
      "                                                                                        Point Few (mass)         Our method                 22.7           1.9             7.0            0.5           67.3           1.2            43.1            1.0\n",
      "                                                                                        Point Few (mass) Cropped Our method                 23.8           4.2             8.2            0.5           76.5           0.4            59.5            0.7\n",
      "                                                                                        Unknown                  Fully Supervised            NaN           NaN             NaN            NaN            NaN           NaN             NaN            NaN\n",
      "     outputs/SAOD8/redcup_fr_full_train_oracle_fr_0.02_split100_1234575/model_final.pth Point Few (bbox)         Our method                  NaN           NaN             NaN            NaN           87.7           NaN            82.8            NaN\n",
      "     outputs/SAOD8/redcup_fr_full_train_oracle_fr_0.02_split100_2234575/model_final.pth Point Few (bbox)         Our method                  NaN           NaN             NaN            NaN           87.6           NaN            81.9            NaN\n",
      "     outputs/SAOD8/redcup_fr_full_train_oracle_fr_0.02_split100_3234575/model_final.pth Point Few (bbox)         Our method                  NaN           NaN             NaN            NaN           86.8           NaN            77.5            NaN\n",
      "     outputs/SAOD8/redcup_fr_full_train_oracle_fr_0.02_split200_1234575/model_final.pth Point Few (bbox)         Our method                  NaN           NaN             NaN            NaN           89.6           NaN            85.2            NaN\n",
      "     outputs/SAOD8/redcup_fr_full_train_oracle_fr_0.02_split200_2234575/model_final.pth Point Few (bbox)         Our method                  NaN           NaN             NaN            NaN           89.0           NaN            82.9            NaN\n",
      "     outputs/SAOD8/redcup_fr_full_train_oracle_fr_0.02_split200_3234575/model_final.pth Point Few (bbox)         Our method                  NaN           NaN             NaN            NaN           89.1           NaN            79.8            NaN\n",
      "     outputs/SAOD8/redcup_fr_full_train_oracle_fr_0.02_split25/model_final.pth          Point Few (bbox)         Our method                  NaN           NaN             NaN            NaN           82.0           1.3            74.5            2.4\n",
      "     outputs/SAOD8/redcup_fr_full_train_oracle_fr_0.02_split50_1234575/model_final.pth  Point Few (bbox)         Our method                  NaN           NaN             NaN            NaN           84.4           NaN            79.1            NaN\n",
      "     outputs/SAOD8/redcup_fr_full_train_oracle_fr_0.02_split50_2234575/model_final.pth  Point Few (bbox)         Our method                  NaN           NaN             NaN            NaN           84.8           NaN            72.9            NaN\n"
     ]
    }
   ],
   "execution_count": 123
  },
  {
   "metadata": {},
   "cell_type": "markdown",
   "source": [
    "## SEMI results\n",
    "Filter out anything not Semi\n"
   ],
   "id": "c08b6e17379bfc35"
  },
  {
   "metadata": {
    "ExecuteTime": {
     "end_time": "2025-09-17T04:59:16.950718Z",
     "start_time": "2025-09-17T04:59:16.941442Z"
    }
   },
   "cell_type": "code",
   "source": [
    "\n",
    "semi_0 = df_summary.loc[(df_summary['species']=='2Redcup') & (df_summary['method'] == \"Our method\") & (df_summary['dataset']==\"Point Few (bbox)\") & (df_summary['lr']==0.02)].copy()\n",
    "semi_0['semi_code'] = [0] * 3\n",
    "\n",
    "semi_249 = df_summary.loc[(df_summary['species']=='2Redcup') & (df_summary['method'] == \"Fully Supervised\") & (df_summary['dataset']==\"Bbox All\") & (df_summary['lr']==0.02)].copy()\n",
    "semi_249['semi_code'] = [249] * 3"
   ],
   "id": "caaef1864da7f6fb",
   "outputs": [],
   "execution_count": 152
  },
  {
   "metadata": {
    "ExecuteTime": {
     "end_time": "2025-09-17T04:59:46.044138Z",
     "start_time": "2025-09-17T04:59:46.023656Z"
    }
   },
   "cell_type": "code",
   "source": [
    "df_semi = df[df['semi_code'].notna()][['sys/id', 'lr', 'species', 'dataset','semi_code', 'method', 'max_AP50', 'last_AP50', 'Seed']]\n",
    "df_semi = df_semi.sort_values(by=['species','dataset','method','Seed'])\n",
    "df_semi = pd.concat([df_semi, semi_0, semi_249], ignore_index=True)\n",
    "group_columns = ['species', 'dataset', 'method', 'lr', 'semi_code']\n",
    "df_semi_grouped = df_semi.groupby(group_columns, dropna=False).agg(\n",
    "    AP50_1max_mean=('max_AP50', mean_with_nan),\n",
    "    AP50_1max_std=('max_AP50', std_with_nan),\n",
    "    AP50_2last_mean=('last_AP50', mean_with_nan),\n",
    "    AP50_2last_std=('last_AP50', std_with_nan),\n",
    "    #AR50_10_3last_mean=('last_AR50@10', mean_with_nan),\n",
    "    #AR50_10_3last_std=('last_AR50@100', std_with_nan),\n",
    "    #AR50_100_4last_mean=('last_AR50@100', mean_with_nan),\n",
    "    #AR50_100_4last_std=('last_AR50@100', std_with_nan),\n",
    "    count=('max_AP50', 'size')  # or use 'count' if you want to exclude NaNs\n",
    ").reset_index()\n",
    "#df_semi_grouped = df_semi_grouped.round({'AP50_1max_mean': 1, 'AP50_1max_std': 1, 'AP50_2last_mean': 1, 'AP50_2last_std': 1, 'AR50_10_3last_mean': 1, 'AR50_10_3last_std': 1, 'AR50_100_4last_mean': 1, 'AR50_100_4last_std': 1})\n",
    "df_semi_grouped = df_semi_grouped.round({'AP50_1max_mean': 1, 'AP50_1max_std': 1, 'AP50_2last_mean': 1, 'AP50_2last_std': 1})"
   ],
   "id": "a55340756b369c92",
   "outputs": [],
   "execution_count": 155
  },
  {
   "metadata": {
    "ExecuteTime": {
     "end_time": "2025-09-17T04:59:48.471426Z",
     "start_time": "2025-09-17T04:59:48.453028Z"
    }
   },
   "cell_type": "code",
   "source": [
    "print(df_semi_grouped.to_string(index=False))\n",
    "df_melted = pd.pivot(df_semi_grouped, index=['lr','semi_code', 'dataset', 'method' ], columns='species', values=['AP50_1max_mean', 'AP50_1max_std',\n",
    "                                                                                          'AP50_2last_mean', 'AP50_2last_std']) #,  'AR50_10_3last_mean', 'AR50_10_3last_std',  'AR50_100_4last_mean', 'AR50_100_4last_std'])\n",
    "df_melted.columns = df_melted.columns.reorder_levels([1, 0])\n",
    "df_melted = df_melted.sort_index(axis=1)\n",
    "print(df_melted.to_string())\n"
   ],
   "id": "b4f42de8743eb1e1",
   "outputs": [
    {
     "name": "stdout",
     "output_type": "stream",
     "text": [
      "species          dataset           method   lr  semi_code  AP50_1max_mean  AP50_1max_std  AP50_2last_mean  AP50_2last_std  count\n",
      "2Redcup         Bbox All Fully Supervised 0.02      249.0            93.9            0.0             91.2             0.2      3\n",
      "2Redcup Point Few (bbox)       Our method 0.02        0.0            60.5            8.9             51.2             7.8      3\n",
      "2Redcup Point Few (bbox)       Our method 0.02       25.0            82.0            1.3             74.5             2.4      3\n",
      "2Redcup Point Few (bbox)       Our method 0.02       50.0            84.6            0.3             76.0             4.4      2\n",
      "2Redcup Point Few (bbox)       Our method 0.02      100.0            87.4            0.5             80.7             2.8      3\n",
      "2Redcup Point Few (bbox)       Our method 0.02      200.0            89.2            0.3             82.6             2.7      3\n",
      "species                                                 2Redcup                                             \n",
      "                                                 AP50_1max_mean AP50_1max_std AP50_2last_mean AP50_2last_std\n",
      "lr   semi_code dataset          method                                                                      \n",
      "0.02 0.0       Point Few (bbox) Our method                 60.5           8.9            51.2            7.8\n",
      "     25.0      Point Few (bbox) Our method                 82.0           1.3            74.5            2.4\n",
      "     50.0      Point Few (bbox) Our method                 84.6           0.3            76.0            4.4\n",
      "     100.0     Point Few (bbox) Our method                 87.4           0.5            80.7            2.8\n",
      "     200.0     Point Few (bbox) Our method                 89.2           0.3            82.6            2.7\n",
      "     249.0     Bbox All         Fully Supervised           93.9           0.0            91.2            0.2\n"
     ]
    }
   ],
   "execution_count": 156
  },
  {
   "metadata": {
    "ExecuteTime": {
     "end_time": "2025-09-17T05:09:20.963601Z",
     "start_time": "2025-09-17T05:09:20.606507Z"
    }
   },
   "cell_type": "code",
   "source": [
    "import seaborn as sns\n",
    "import matplotlib.pyplot as plt\n",
    "\n",
    "# Apply the default theme\n",
    "sns.set_theme(style=\"whitegrid\")\n",
    "g = sns.relplot(\n",
    "    data=df_semi, \n",
    "    x='semi_code', y='max_AP50', #col='Dataset', \n",
    "    #hue='Augmented with Synthetic Data', \n",
    "    kind='line', \n",
    "    markers=[\"o\", \"<\", \">\", \"*\"], \n",
    "    #style='Synthetic Data', \n",
    "    linewidth=3,\n",
    "    aspect=1.4,\n",
    "    height=5,\n",
    "    facet_kws={'gridspec_kws': {'wspace': 0.05, 'hspace': 0.05}})\n",
    "#g.set(xscale='log')\n",
    "\n",
    "# Add titles and labels\n",
    "\n",
    "# Define y-values for horizontal lines for each subplot\n",
    "y_values = {'Redcup': 93.9}\n",
    "\n",
    "# Add horizontal lines to each subplot\n",
    "for ax, category in zip(g.axes.flat, y_values):\n",
    "    ax.axhline(y=y_values[category], color='red', linestyle=(0, (3, 1, 1, 1)), linewidth=4)\n",
    "plt.ylim(0, 100)\n",
    "plt.xlim(0, None)\n",
    "\n",
    "g.set_axis_labels(\"No of Fully Annotated Images\", \"Maximum AP50\", fontsize=14)\n",
    "g.set_titles(\"{col_name}\", size=14)\n",
    "for ax in g.axes.flat:\n",
    "    ax.tick_params(axis='x', labelsize=14)\n",
    "    ax.tick_params(axis='y', labelsize=14)\n",
    "\n",
    "\n",
    "plt.show()\n",
    "fig = g.fig\n",
    "fig.savefig('semi_supervised_redcup_maxAP.jpg', dpi=200)"
   ],
   "id": "857ed0af00ecf0d6",
   "outputs": [
    {
     "name": "stderr",
     "output_type": "stream",
     "text": [
      "/home/heather/.conda/envs/py310_torch/lib/python3.10/site-packages/seaborn/axisgrid.py:123: UserWarning: This figure includes Axes that are not compatible with tight_layout, so results might be incorrect.\n",
      "  self._figure.tight_layout(*args, **kwargs)\n",
      "/home/heather/.conda/envs/py310_torch/lib/python3.10/site-packages/seaborn/axisgrid.py:123: UserWarning: This figure includes Axes that are not compatible with tight_layout, so results might be incorrect.\n",
      "  self._figure.tight_layout(*args, **kwargs)\n"
     ]
    },
    {
     "data": {
      "text/plain": [
       "<Figure size 700x500 with 1 Axes>"
      ],
      "image/png": "[encoded data removed]"
     },
     "metadata": {},
     "output_type": "display_data"
    }
   ],
   "execution_count": 173
  },
  {
   "metadata": {
    "ExecuteTime": {
     "end_time": "2025-09-17T05:11:35.724405Z",
     "start_time": "2025-09-17T05:11:35.050459Z"
    }
   },
   "cell_type": "code",
   "source": [
    "import seaborn as sns\n",
    "import matplotlib.pyplot as plt\n",
    "\n",
    "# Apply the default theme\n",
    "sns.set_theme(style=\"whitegrid\")\n",
    "g = sns.relplot(\n",
    "    data=df_semi, \n",
    "    x='semi_code', y='last_AP50', #col='Dataset', \n",
    "    #hue='Augmented with Synthetic Data', \n",
    "    kind='line', \n",
    "    markers=[\"o\", \"<\", \">\", \"*\"], \n",
    "    #style='Synthetic Data', \n",
    "    linewidth=3,\n",
    "    aspect=1.4,\n",
    "    height=5,\n",
    "    facet_kws={'gridspec_kws': {'wspace': 0.05, 'hspace': 0.05}})\n",
    "#g.set(xscale='log')\n",
    "\n",
    "# Define y-values for horizontal lines for each subplot\n",
    "y_values = {'Redcup': 91.2}\n",
    "\n",
    "# Add horizontal lines to each subplot\n",
    "for ax, category in zip(g.axes.flat, y_values):\n",
    "    ax.axhline(y=y_values[category], color='red', linestyle=(0, (3, 1, 1, 1)), linewidth=4)\n",
    "plt.ylim(0, 100)\n",
    "plt.xlim(0, None)\n",
    "\n",
    "\n",
    "g.set_axis_labels(\"No of Fully Annotated Images\", \"Last AP50\", fontsize=14)\n",
    "g.set_titles(\"{col_name}\", size=14)\n",
    "for ax in g.axes.flat:\n",
    "    ax.tick_params(axis='x', labelsize=14)\n",
    "    ax.tick_params(axis='y', labelsize=14)\n",
    "\n",
    "plt.show()\n",
    "fig = g.fig\n",
    "fig.savefig('semi_supervised_redcup_lastAP.jpg', dpi=200)"
   ],
   "id": "61ba09de8159e054",
   "outputs": [
    {
     "name": "stderr",
     "output_type": "stream",
     "text": [
      "/home/heather/.conda/envs/py310_torch/lib/python3.10/site-packages/seaborn/axisgrid.py:123: UserWarning: This figure includes Axes that are not compatible with tight_layout, so results might be incorrect.\n",
      "  self._figure.tight_layout(*args, **kwargs)\n",
      "/home/heather/.conda/envs/py310_torch/lib/python3.10/site-packages/seaborn/axisgrid.py:123: UserWarning: This figure includes Axes that are not compatible with tight_layout, so results might be incorrect.\n",
      "  self._figure.tight_layout(*args, **kwargs)\n"
     ]
    },
    {
     "data": {
      "text/plain": [
       "<Figure size 700x500 with 1 Axes>"
      ],
      "image/png": "[encoded data removed]"
     },
     "metadata": {},
     "output_type": "display_data"
    }
   ],
   "execution_count": 175
  },
  {
   "metadata": {},
   "cell_type": "code",
   "outputs": [],
   "execution_count": null,
   "source": "## Get CoStudent data",
   "id": "8ff8966ae0407bf0"
  },
  {
   "metadata": {},
   "cell_type": "code",
   "outputs": [],
   "execution_count": null,
   "source": [
    "import pandas as pd\n",
    "import re\n",
    "import json\n",
    "import numpy as np\n",
    "from glob import glob\n",
    "\n",
    "files = glob(\"../../CoStudent/summary/*.txt\")\n",
    "for f in files:\n",
    "    with open(f, 'r') as file:\n",
    "        line_data = []\n",
    "        for line in file:\n",
    "            line = line.replace('NaN', 'null')\n",
    "            filename, json_str = line.split(\":\", 1)\n",
    "            seed_match = re.search(r'_\\d{7}_', filename)\n",
    "            seed = seed_match.group().strip('_') if seed_match else None\n",
    "            if seed is None:\n",
    "                seed_match = re.search(r'_\\d{7}/', filename)\n",
    "                seed = seed_match.group().strip('_').strip('/') if seed_match else None \n",
    "            #print(seed, filename)\n",
    "            if seed is not None:\n",
    "                data = json.loads(json_str)\n",
    "                data['seed'] = seed\n",
    "                line_data.append(data)\n",
    "        df = pd.DataFrame(line_data)\n",
    "        print(f)\n",
    "        if len(df) > 0:\n",
    "            max_iter_idx = df.groupby('seed')['iteration'].idxmax()\n",
    "            last_df = df.loc[max_iter_idx, ['seed', 'bbox/AP50']].copy()\n",
    "            max_df = pd.DataFrame(df.groupby('seed')['bbox/AP50'].max())\n",
    "            last_df = last_df.merge(max_df,left_on='seed', right_index=True, suffixes=('_last', '_max'))\n",
    "            #print(last_df)\n",
    "            print(f\"${round(last_df['bbox/AP50_max'].mean(), 1)} \\pm {round(last_df['bbox/AP50_max'].std(), 1)}$ & ${round(last_df['bbox/AP50_last'].mean(), 1)} \\pm {round(last_df['bbox/AP50_last'].std(), 1)} $ %{len(last_df)}\")\n"
   ],
   "id": "d7765c9a5d7b5f91"
  },
  {
   "metadata": {},
   "cell_type": "markdown",
   "source": "# UMS",
   "id": "dc0caa2d3c9e56be"
  },
  {
   "metadata": {
    "ExecuteTime": {
     "end_time": "2025-09-26T06:00:55.801804Z",
     "start_time": "2025-09-26T06:00:53.771781Z"
    }
   },
   "cell_type": "code",
   "source": [
    "runs_table_df = project.fetch_runs_table(query='(`sys/group_tags`:stringSet CONTAINS \"UMS2\")').to_pandas()\n",
    "runs_table_df = runs_table_df[runs_table_df['sys/failed'] == False]\n",
    "df = runs_table_df"
   ],
   "id": "a74632a7318972f8",
   "outputs": [],
   "execution_count": 4
  },
  {
   "metadata": {
    "ExecuteTime": {
     "end_time": "2025-09-26T06:45:14.344763Z",
     "start_time": "2025-09-26T06:45:14.336118Z"
    }
   },
   "cell_type": "code",
   "source": [
    "df['last_AP50'] = df['training/metrics/bbox/AP50']\n",
    "df['last_AP'] = df['training/metrics/bbox/AP']\n",
    "df['Seed'] = df ['training/config/SEED']\n",
    "df['Source'] = df['training/config/DATASETS/TRAIN'].apply(lambda x: x.split(',')[-1].replace(\"[\", \"\").replace(\"]\", \"\").replace(\"'\", \"\").strip())\n",
    "df[\"Pretrain\"] = df[\"training/config/MODEL/WEIGHTS\"].apply(lambda x: x.split('/')[-1])\n",
    "df['Target'] = df[\"training/config/UMS/UNLABELED\"]"
   ],
   "id": "2f941c103cccbc85",
   "outputs": [],
   "execution_count": 61
  },
  {
   "metadata": {},
   "cell_type": "code",
   "source": [
    "df['max_AP50_umsdas_ioukl'] = df['sys/id'].apply(lambda x: get_max_eval_for_metric_from_run(x, \"training/metrics/umsdas/ioukl\", \n",
    "                                                                               api_token=api_token, project_name=project_name))"
   ],
   "id": "ac82eff694cd15fa",
   "execution_count": null,
   "outputs": []
  },
  {
   "metadata": {
    "ExecuteTime": {
     "end_time": "2025-09-26T06:28:47.111994Z",
     "start_time": "2025-09-26T06:28:37.871951Z"
    }
   },
   "cell_type": "code",
   "source": "df['max_AP50'] = df['sys/id'].apply(get_max_AP50_from_id)\n",
   "id": "226d50bc8b65faf",
   "outputs": [
    {
     "name": "stdout",
     "output_type": "stream",
     "text": [
      "[neptune] [info   ] Neptune initialized. Open in the app: https://app.neptune.ai/ACFRmarine/ALDI-DOAD/e/AL-1646\n",
      "[neptune] [info   ] Neptune initialized. Open in the app: https://app.neptune.ai/ACFRmarine/ALDI-DOAD/e/AL-1645\n",
      "[neptune] [info   ] Neptune initialized. Open in the app: https://app.neptune.ai/ACFRmarine/ALDI-DOAD/e/AL-1644\n",
      "[neptune] [info   ] Neptune initialized. Open in the app: https://app.neptune.ai/ACFRmarine/ALDI-DOAD/e/AL-1643\n",
      "[neptune] [info   ] Neptune initialized. Open in the app: https://app.neptune.ai/ACFRmarine/ALDI-DOAD/e/AL-1642\n"
     ]
    }
   ],
   "execution_count": 29
  },
  {
   "metadata": {
    "ExecuteTime": {
     "end_time": "2025-09-26T06:06:51.468589Z",
     "start_time": "2025-09-26T06:06:51.462632Z"
    }
   },
   "cell_type": "code",
   "source": "[c for c in df.columns if \"ioukl\" in c]",
   "id": "aa51f14c43b3956b",
   "outputs": [
    {
     "data": {
      "text/plain": [
       "['training/metrics/ums_2_3_4_5/ioukl',\n",
       " 'training/metrics/ums_2_3_4_5/ioukl_iou',\n",
       " 'training/metrics/ums_2_3_4_5/ioukl_kl',\n",
       " 'training/metrics/ums_5/ioukl',\n",
       " 'training/metrics/ums_5/ioukl_iou',\n",
       " 'training/metrics/ums_5/ioukl_kl',\n",
       " 'training/metrics/umsdas/ioukl',\n",
       " 'training/metrics/umsdas/ioukl_iou',\n",
       " 'training/metrics/umsdas/ioukl_kl']"
      ]
     },
     "execution_count": 6,
     "metadata": {},
     "output_type": "execute_result"
    }
   ],
   "execution_count": 6
  },
  {
   "metadata": {
    "ExecuteTime": {
     "end_time": "2025-09-26T06:45:23.505396Z",
     "start_time": "2025-09-26T06:45:23.492467Z"
    }
   },
   "cell_type": "code",
   "source": "print(df[['Source', 'Target', 'Pretrain', 'max_AP50', \"last_AP50\", \"max_AP50_umsdas_ioukl\"]])",
   "id": "46513cc504542e87",
   "outputs": [
    {
     "name": "stdout",
     "output_type": "stream",
     "text": [
      "              Source                 Target  \\\n",
      "0  sim10k_cars_train  cityscapes_cars_train   \n",
      "1  sim10k_cars_train  cityscapes_cars_train   \n",
      "2  sim10k_cars_train  cityscapes_cars_train   \n",
      "3  sim10k_cars_train  cityscapes_cars_train   \n",
      "4  sim10k_cars_train  cityscapes_cars_train   \n",
      "\n",
      "                                            Pretrain   max_AP50  last_AP50  \\\n",
      "0                                    model_final.pth  71.737724  70.564981   \n",
      "1  cityscapes_cars_train_umsdas_ioukl_model_best.pth  75.197689  71.953418   \n",
      "2  cityscapes_cars_train_umsdas_ioukl_model_best.pth  76.497169  76.177503   \n",
      "3                                    model_final.pth  75.091205  75.091205   \n",
      "4                             model_final_f10217.pkl  76.662424  67.144534   \n",
      "\n",
      "   max_AP50_umsdas_ioukl  \n",
      "0              70.503955  \n",
      "1              71.945400  \n",
      "2              76.343916  \n",
      "3              74.994942  \n",
      "4              76.130303  \n"
     ]
    }
   ],
   "execution_count": 62
  },
  {
   "metadata": {
    "ExecuteTime": {
     "end_time": "2025-09-26T06:38:17.962515Z",
     "start_time": "2025-09-26T06:38:17.957749Z"
    }
   },
   "cell_type": "code",
   "source": [
    "#print(list(df.columns))\n",
    "print([c for c in df.columns if \"TEST\" in c])"
   ],
   "id": "39412a19a23e5241",
   "outputs": [
    {
     "name": "stdout",
     "output_type": "stream",
     "text": [
      "['training/config/DATASETS/PRECOMPUTED_PROPOSAL_TOPK_TEST', 'training/config/DATASETS/PROPOSAL_FILES_TEST', 'training/config/DATASETS/TEST', 'training/config/INPUT/MAX_SIZE_TEST', 'training/config/INPUT/MIN_SIZE_TEST', 'training/config/MODEL/FCOS/INFERENCE_TH_TEST', 'training/config/MODEL/FCOS/NMS_THRESH_TEST', 'training/config/MODEL/FCOS/POST_NMS_TOPK_TEST', 'training/config/MODEL/FCOS/PRE_NMS_TOPK_TEST', 'training/config/MODEL/FCOS/SCORE_THRESH_TEST', 'training/config/MODEL/FCOS/TOPK_CANDIDATES_TEST', 'training/config/MODEL/RETINANET/NMS_THRESH_TEST', 'training/config/MODEL/RETINANET/SCORE_THRESH_TEST', 'training/config/MODEL/RETINANET/TOPK_CANDIDATES_TEST', 'training/config/MODEL/ROI_HEADS/NMS_THRESH_TEST', 'training/config/MODEL/ROI_HEADS/SCORE_THRESH_TEST', 'training/config/MODEL/RPN/POST_NMS_TOPK_TEST', 'training/config/MODEL/RPN/PRE_NMS_TOPK_TEST', 'training/config/TEST/AUG/ENABLED', 'training/config/TEST/AUG/FLIP', 'training/config/TEST/AUG/MAX_SIZE', 'training/config/TEST/AUG/MIN_SIZES', 'training/config/TEST/DETECTIONS_PER_IMAGE', 'training/config/TEST/EVAL_PERIOD', 'training/config/TEST/EXPECTED_RESULTS', 'training/config/TEST/KEYPOINT_OKS_SIGMAS', 'training/config/TEST/PRECISE_BN/ENABLED', 'training/config/TEST/PRECISE_BN/NUM_ITER']\n"
     ]
    }
   ],
   "execution_count": 50
  }
 ],
 "metadata": {
  "kernelspec": {
   "display_name": "Python 3",
   "language": "python",
   "name": "python3"
  },
  "language_info": {
   "codemirror_mode": {
    "name": "ipython",
    "version": 2
   },
   "file_extension": ".py",
   "mimetype": "text/x-python",
   "name": "python",
   "nbconvert_exporter": "python",
   "pygments_lexer": "ipython2",
   "version": "2.7.6"
  }
 },
 "nbformat": 4,
 "nbformat_minor": 5
}
